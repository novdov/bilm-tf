{
 "cells": [
  {
   "cell_type": "code",
   "execution_count": 1,
   "metadata": {
    "collapsed": true
   },
   "outputs": [
    {
     "name": "stderr",
     "output_type": "stream",
     "text": [
      "Using TensorFlow backend.\n"
     ]
    }
   ],
   "source": [
    "from datetime import datetime\n",
    "import numpy as np\n",
    "from keras.utils import np_utils\n",
    "from keras.preprocessing.text import Tokenizer\n",
    "from keras.preprocessing.sequence import pad_sequences\n",
    "from sklearn.model_selection import train_test_split\n",
    "from keras.layers import Embedding\n",
    "from keras.models import Sequential\n",
    "from keras.layers import Dense, Activation\n",
    "from keras.callbacks import Callback\n",
    "import pandas as pd\n",
    "import tensorflow as tf"
   ]
  },
  {
   "cell_type": "code",
   "execution_count": 2,
   "metadata": {},
   "outputs": [],
   "source": [
    "def reset_graph(seed=2018):\n",
    "    tf.reset_default_graph()\n",
    "    tf.set_random_seed(seed)\n",
    "    np.random.seed(seed)"
   ]
  },
  {
   "cell_type": "code",
   "execution_count": 3,
   "metadata": {},
   "outputs": [],
   "source": [
    "def binarize_pos_neg(score):\n",
    "    if score >= 5.0:\n",
    "        score = 1\n",
    "    else:\n",
    "        score = 0\n",
    "    return score"
   ]
  },
  {
   "cell_type": "code",
   "execution_count": 4,
   "metadata": {},
   "outputs": [],
   "source": [
    "class TestCallback(Callback):\n",
    "    def __init__(self, test_data):\n",
    "        self.test_data = test_data\n",
    "\n",
    "    def on_epoch_end(self, epoch, logs={}):\n",
    "        x, y = self.test_data\n",
    "        loss, acc = self.model.evaluate(x, y, verbose=0)\n",
    "        print('\\nTesting loss: {}, acc: {}\\n'.format(loss, acc))"
   ]
  },
  {
   "cell_type": "code",
   "execution_count": 5,
   "metadata": {
    "collapsed": true
   },
   "outputs": [],
   "source": [
    "pos_neg_data_pre = pd.read_csv('pos_neg_labeling_7scaled.tsv', delimiter='\\t')\n",
    "pos_neg_data_pre.rename(columns={'긍정/부정 척도': 'sentiment'}, inplace=True)\n",
    "neutral_sentiment = pos_neg_data_pre[pos_neg_data_pre['sentiment'] == 4.0]\n",
    "neutral_sentiment_idx = neutral_sentiment.index\n",
    "pos_neg_data_pre_wo_neutral = pos_neg_data_pre.drop(neutral_sentiment_idx).reset_index(drop=True)\n",
    "pos_neg_data_pre_wo_neutral.drop(['명확도', 'Emojiness'], axis=1, inplace=True)\n",
    "pos_neg_data = pos_neg_data_pre_wo_neutral.copy()\n",
    "pos_neg_data['sentiment'] = pos_neg_data['sentiment'].apply(binarize_pos_neg)\n",
    "\n",
    "sentences = pos_neg_data['queries']\n",
    "sentence_splitted = [sentence.split(' ') for sentence in sentences]"
   ]
  },
  {
   "cell_type": "code",
   "execution_count": 6,
   "metadata": {
    "collapsed": true
   },
   "outputs": [
    {
     "data": {
      "text/plain": [
       "9"
      ]
     },
     "execution_count": 6,
     "metadata": {},
     "output_type": "execute_result"
    }
   ],
   "source": [
    "tokenizer = Tokenizer()\n",
    "tokenizer.fit_on_texts(sentences)\n",
    "sequences = tokenizer.texts_to_sequences(sentences)\n",
    "\n",
    "MAX_SEQUENCE_LENGTH = max(len(seq)\n",
    "                          for seq in sequences)\n",
    "MAX_SEQUENCE_LENGTH"
   ]
  },
  {
   "cell_type": "code",
   "execution_count": 7,
   "metadata": {
    "collapsed": true
   },
   "outputs": [],
   "source": [
    "data = pad_sequences(sequences, maxlen=MAX_SEQUENCE_LENGTH)\n",
    "\n",
    "labels = np.asarray(pos_neg_data['sentiment'])\n",
    "labels = np_utils.to_categorical(labels)"
   ]
  },
  {
   "cell_type": "code",
   "execution_count": 8,
   "metadata": {
    "collapsed": true
   },
   "outputs": [],
   "source": [
    "VALIDATION_SPLIT = 0.1\n",
    "\n",
    "indices = np.arange(data.shape[0])\n",
    "np.random.shuffle(indices)\n",
    "data = data[indices]\n",
    "labels = labels[indices]\n",
    "nb_validation_samples = int(VALIDATION_SPLIT * data.shape[0])"
   ]
  },
  {
   "cell_type": "code",
   "execution_count": 9,
   "metadata": {
    "collapsed": true
   },
   "outputs": [],
   "source": [
    "x_train = data[:-nb_validation_samples]\n",
    "y_train = labels[:-nb_validation_samples]\n",
    "x_val = data[-nb_validation_samples:]\n",
    "y_val = labels[-nb_validation_samples:]"
   ]
  },
  {
   "cell_type": "code",
   "execution_count": 10,
   "metadata": {},
   "outputs": [],
   "source": [
    "x_train, x_test, y_train, y_test = train_test_split(x_train, y_train, test_size=0.1)"
   ]
  },
  {
   "cell_type": "code",
   "execution_count": 11,
   "metadata": {},
   "outputs": [
    {
     "data": {
      "text/plain": [
       "((1296, 9), (160, 9), (145, 9))"
      ]
     },
     "execution_count": 11,
     "metadata": {},
     "output_type": "execute_result"
    }
   ],
   "source": [
    "x_train.shape, x_val.shape, x_test.shape"
   ]
  },
  {
   "cell_type": "code",
   "execution_count": 12,
   "metadata": {},
   "outputs": [
    {
     "name": "stderr",
     "output_type": "stream",
     "text": [
      "/home/sunwoong/sunwoongenv/lib/python3.5/site-packages/ipykernel_launcher.py:6: UserWarning: Update your `Dense` call to the Keras 2 API: `Dense(input_dim=9, units=2, activation=\"softmax\")`\n",
      "  \n"
     ]
    },
    {
     "name": "stdout",
     "output_type": "stream",
     "text": [
      "Train on 1296 samples, validate on 160 samples\n",
      "Epoch 1/20\n",
      " 672/1296 [==============>...............] - ETA: 1s - loss: 5.5709 - acc: 0.6503 \n",
      "Testing loss: 3.5377080029454726, acc: 0.7793103472939853\n",
      "\n",
      "1296/1296 [==============================] - 1s - loss: 4.3606 - acc: 0.7269 - val_loss: 2.2042 - val_acc: 0.8625\n",
      "Epoch 2/20\n",
      " 896/1296 [===================>..........] - ETA: 0s - loss: 2.5431 - acc: 0.8404\n",
      "Testing loss: 2.6532810046755033, acc: 0.8344827610870887\n",
      "\n",
      "1296/1296 [==============================] - 0s - loss: 2.3395 - acc: 0.8534 - val_loss: 1.6030 - val_acc: 0.9000\n",
      "Epoch 3/20\n",
      " 896/1296 [===================>..........] - ETA: 0s - loss: 2.2543 - acc: 0.8594\n",
      "Testing loss: 2.6532810046755033, acc: 0.8344827610870887\n",
      "\n",
      "1296/1296 [==============================] - 0s - loss: 2.1398 - acc: 0.8665 - val_loss: 1.6030 - val_acc: 0.9000\n",
      "Epoch 4/20\n",
      "1024/1296 [======================>.......] - ETA: 0s - loss: 2.1290 - acc: 0.8672\n",
      "Testing loss: 2.6532810046755033, acc: 0.8344827610870887\n",
      "\n",
      "1296/1296 [==============================] - 0s - loss: 2.1398 - acc: 0.8665 - val_loss: 1.6030 - val_acc: 0.9000\n",
      "Epoch 5/20\n",
      "1024/1296 [======================>.......] - ETA: 0s - loss: 2.1760 - acc: 0.8643\n",
      "Testing loss: 2.6532810046755033, acc: 0.8344827610870887\n",
      "\n",
      "1296/1296 [==============================] - 0s - loss: 2.1398 - acc: 0.8665 - val_loss: 1.6030 - val_acc: 0.9000\n",
      "Epoch 6/20\n",
      "1056/1296 [=======================>......] - ETA: 0s - loss: 2.1404 - acc: 0.8665\n",
      "Testing loss: 2.6532810046755033, acc: 0.8344827610870887\n",
      "\n",
      "1296/1296 [==============================] - 0s - loss: 2.1398 - acc: 0.8665 - val_loss: 1.6030 - val_acc: 0.9000\n",
      "Epoch 7/20\n",
      " 960/1296 [=====================>........] - ETA: 0s - loss: 2.2042 - acc: 0.8625\n",
      "Testing loss: 2.6532810046755033, acc: 0.8344827610870887\n",
      "\n",
      "1296/1296 [==============================] - 0s - loss: 2.1398 - acc: 0.8665 - val_loss: 1.6030 - val_acc: 0.9000\n",
      "Epoch 8/20\n",
      " 864/1296 [===================>..........] - ETA: 0s - loss: 2.1708 - acc: 0.8646\n",
      "Testing loss: 2.6532810046755033, acc: 0.8344827610870887\n",
      "\n",
      "1296/1296 [==============================] - 0s - loss: 2.1398 - acc: 0.8665 - val_loss: 1.6030 - val_acc: 0.9000\n",
      "Epoch 9/20\n",
      "1024/1296 [======================>.......] - ETA: 0s - loss: 2.0507 - acc: 0.8721\n",
      "Testing loss: 2.6532810046755033, acc: 0.8344827610870887\n",
      "\n",
      "1296/1296 [==============================] - 0s - loss: 2.1398 - acc: 0.8665 - val_loss: 1.6030 - val_acc: 0.9000\n",
      "Epoch 10/20\n",
      "1088/1296 [========================>.....] - ETA: 0s - loss: 2.1511 - acc: 0.8658\n",
      "Testing loss: 2.6532810046755033, acc: 0.8344827610870887\n",
      "\n",
      "1296/1296 [==============================] - 0s - loss: 2.1398 - acc: 0.8665 - val_loss: 1.6030 - val_acc: 0.9000\n",
      "Epoch 11/20\n",
      " 992/1296 [=====================>........] - ETA: 0s - loss: 2.0684 - acc: 0.8710\n",
      "Testing loss: 2.6532810046755033, acc: 0.8344827610870887\n",
      "\n",
      "1296/1296 [==============================] - 0s - loss: 2.1398 - acc: 0.8665 - val_loss: 1.6030 - val_acc: 0.9000\n",
      "Epoch 12/20\n",
      "1152/1296 [=========================>....] - ETA: 0s - loss: 2.0594 - acc: 0.8715\n",
      "Testing loss: 2.6532810046755033, acc: 0.8344827610870887\n",
      "\n",
      "1296/1296 [==============================] - 0s - loss: 2.1398 - acc: 0.8665 - val_loss: 1.6030 - val_acc: 0.9000\n",
      "Epoch 13/20\n",
      "1152/1296 [=========================>....] - ETA: 0s - loss: 2.1012 - acc: 0.8689\n",
      "Testing loss: 2.6532810046755033, acc: 0.8344827610870887\n",
      "\n",
      "1296/1296 [==============================] - 0s - loss: 2.1398 - acc: 0.8665 - val_loss: 1.6030 - val_acc: 0.9000\n",
      "Epoch 14/20\n",
      "1152/1296 [=========================>....] - ETA: 0s - loss: 2.1429 - acc: 0.8663\n",
      "Testing loss: 2.6532810046755033, acc: 0.8344827610870887\n",
      "\n",
      "1296/1296 [==============================] - 0s - loss: 2.1398 - acc: 0.8665 - val_loss: 1.6030 - val_acc: 0.9000\n",
      "Epoch 15/20\n",
      "1088/1296 [========================>.....] - ETA: 0s - loss: 2.1216 - acc: 0.8676\n",
      "Testing loss: 2.6532810046755033, acc: 0.8344827610870887\n",
      "\n",
      "1296/1296 [==============================] - 0s - loss: 2.1398 - acc: 0.8665 - val_loss: 1.6030 - val_acc: 0.9000\n",
      "Epoch 16/20\n",
      "1088/1296 [========================>.....] - ETA: 0s - loss: 2.0332 - acc: 0.8732\n",
      "Testing loss: 2.6532810046755033, acc: 0.8344827610870887\n",
      "\n",
      "1296/1296 [==============================] - 0s - loss: 2.1398 - acc: 0.8665 - val_loss: 1.6030 - val_acc: 0.9000\n",
      "Epoch 17/20\n",
      "1120/1296 [========================>.....] - ETA: 0s - loss: 2.1183 - acc: 0.8679\n",
      "Testing loss: 2.6532810046755033, acc: 0.8344827610870887\n",
      "\n",
      "1296/1296 [==============================] - 0s - loss: 2.1398 - acc: 0.8665 - val_loss: 1.6030 - val_acc: 0.9000\n",
      "Epoch 18/20\n",
      " 960/1296 [=====================>........] - ETA: 0s - loss: 2.1040 - acc: 0.8688\n",
      "Testing loss: 2.6532810046755033, acc: 0.8344827610870887\n",
      "\n",
      "1296/1296 [==============================] - 0s - loss: 2.1398 - acc: 0.8665 - val_loss: 1.6030 - val_acc: 0.9000\n",
      "Epoch 19/20\n",
      "1152/1296 [=========================>....] - ETA: 0s - loss: 2.1012 - acc: 0.8689\n",
      "Testing loss: 2.6532810046755033, acc: 0.8344827610870887\n",
      "\n",
      "1296/1296 [==============================] - 0s - loss: 2.1398 - acc: 0.8665 - val_loss: 1.6030 - val_acc: 0.9000\n",
      "Epoch 20/20\n",
      "1120/1296 [========================>.....] - ETA: 0s - loss: 2.1040 - acc: 0.8688\n",
      "Testing loss: 2.6532810046755033, acc: 0.8344827610870887\n",
      "\n",
      "1296/1296 [==============================] - 0s - loss: 2.1398 - acc: 0.8665 - val_loss: 1.6030 - val_acc: 0.9000\n"
     ]
    }
   ],
   "source": [
    "reset_graph()\n",
    "\n",
    "model = Sequential()\n",
    "model.add(Dense(output_dim=2,\n",
    "                activation='softmax',\n",
    "                input_dim=MAX_SEQUENCE_LENGTH))\n",
    "\n",
    "model.compile(optimizer='sgd',\n",
    "              loss='binary_crossentropy',\n",
    "              metrics=['accuracy'])\n",
    "\n",
    "# model.fit(x_train, y_train, epochs=10, validation_data=(x_val, y_val))\n",
    "history = model.fit(x_train, y_train, \n",
    "                    epochs=20, \n",
    "                    validation_data=(x_val, y_val), \n",
    "                    callbacks=[TestCallback((x_test, y_test))])"
   ]
  },
  {
   "cell_type": "code",
   "execution_count": 13,
   "metadata": {},
   "outputs": [
    {
     "name": "stdout",
     "output_type": "stream",
     "text": [
      " 32/145 [=====>........................] - ETA: 0s"
     ]
    },
    {
     "data": {
      "text/plain": [
       "[2.6532810046755033, 0.8344827610870887]"
      ]
     },
     "execution_count": 13,
     "metadata": {},
     "output_type": "execute_result"
    }
   ],
   "source": [
    "model.evaluate(x_test, y_test)"
   ]
  },
  {
   "cell_type": "code",
   "execution_count": 14,
   "metadata": {},
   "outputs": [],
   "source": [
    "import matplotlib.pyplot as plt\n",
    "\n",
    "\n",
    "def plot_loss(history):\n",
    "    plt.plot(history.history['loss'])\n",
    "    plt.plot(history.history['val_loss'])\n",
    "    plt.title(\"Model Loss\")\n",
    "    plt.ylabel(\"Loss\")\n",
    "    plt.xlabel(\"Epoch\")\n",
    "    plt.legend([\"Train\", \"Test\"], loc=0)\n",
    "\n",
    "\n",
    "def plot_acc(history):\n",
    "    plt.plot(history.history['acc'])\n",
    "    plt.plot(history.history['val_acc'])\n",
    "    plt.title(\"Model Accuracy\")\n",
    "    plt.ylabel(\"Accuracy\")\n",
    "    plt.xlabel(\"Epoch\")\n",
    "    plt.legend([\"Train\", \"Test\"], loc=0)"
   ]
  },
  {
   "cell_type": "code",
   "execution_count": 15,
   "metadata": {},
   "outputs": [
    {
     "data": {
      "image/png": "[encoded data removed]",
      "text/plain": [
       "<Figure size 936x360 with 2 Axes>"
      ]
     },
     "metadata": {},
     "output_type": "display_data"
    }
   ],
   "source": [
    "plt.figure(figsize=(13,5))\n",
    "plt.subplot(121)\n",
    "plot_acc(history)\n",
    "plt.subplot(122)\n",
    "plot_loss(history)"
   ]
  },
  {
   "cell_type": "code",
   "execution_count": null,
   "metadata": {},
   "outputs": [],
   "source": []
  },
  {
   "cell_type": "code",
   "execution_count": null,
   "metadata": {},
   "outputs": [],
   "source": []
  },
  {
   "cell_type": "code",
   "execution_count": null,
   "metadata": {},
   "outputs": [],
   "source": []
  }
 ],
 "metadata": {
  "kernelspec": {
   "display_name": "sunwoongenv",
   "language": "python",
   "name": "sunwoongenv"
  },
  "language_info": {
   "codemirror_mode": {
    "name": "ipython",
    "version": 3
   },
   "file_extension": ".py",
   "mimetype": "text/x-python",
   "name": "python",
   "nbconvert_exporter": "python",
   "pygments_lexer": "ipython3",
   "version": "3.5.2"
  }
 },
 "nbformat": 4,
 "nbformat_minor": 2
}
