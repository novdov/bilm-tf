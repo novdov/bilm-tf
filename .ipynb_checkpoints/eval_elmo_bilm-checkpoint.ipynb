{
 "cells": [
  {
   "cell_type": "markdown",
   "metadata": {},
   "source": [
    "## ELMo Evaluation\n",
    "\n",
    "- Sentiment Analysis\n",
    "    - Dataset: Pos_Neg_Labeling\n",
    "        - 중립을 제외한 1601개 문장\n",
    "        - 부정 1388 / 긍정 213 (Baseline: 0.867)\n",
    "    \n",
    "\n",
    "- Similarity\n",
    "    - Cosine similarity"
   ]
  },
  {
   "cell_type": "code",
   "execution_count": 55,
   "metadata": {},
   "outputs": [
    {
     "name": "stdout",
     "output_type": "stream",
     "text": [
      "1.2.0\n"
     ]
    }
   ],
   "source": [
    "from collections import defaultdict\n",
    "import numpy as np\n",
    "import os\n",
    "import pandas as pd\n",
    "from pprint import pprint\n",
    "from sklearn.model_selection import cross_val_score, train_test_split\n",
    "from sklearn.metrics import confusion_matrix, classification_report\n",
    "from sklearn.linear_model import LogisticRegression\n",
    "import tensorflow as tf\n",
    "\n",
    "import keras\n",
    "import keras.backend.tensorflow_backend as KTF\n",
    "from keras.callbacks import Callback\n",
    "from keras.models import Model, Sequential\n",
    "from keras.layers import (\n",
    "    Activation,\n",
    "    Dense,\n",
    "    Embedding,\n",
    "    Input,\n",
    "    Flatten\n",
    ")\n",
    "from keras.preprocessing.sequence import pad_sequences\n",
    "from keras.utils import np_utils\n",
    "\n",
    "from soynlp.tokenizer import MaxScoreTokenizer\n",
    "\n",
    "from bilm.training import load_vocab\n",
    "\n",
    "print(tf.__version__)"
   ]
  },
  {
   "cell_type": "code",
   "execution_count": 135,
   "metadata": {},
   "outputs": [],
   "source": [
    "# import sys\n",
    "# sys.path.append(\"/home/angrypark/pingpong-api/reaction_model/\")\n",
    "# from pingpong.utils import get_ingredient_factory"
   ]
  },
  {
   "cell_type": "code",
   "execution_count": 4,
   "metadata": {},
   "outputs": [],
   "source": [
    "def load_soynlp_scores(scores_path):\n",
    "    with open(scores_path, 'r') as f:\n",
    "        scores = {}\n",
    "        for line in f.readlines():\n",
    "            token, score = line.split('\\t')\n",
    "            scores[token] = float(score.replace('\\n', ''))\n",
    "    return scores"
   ]
  },
  {
   "cell_type": "code",
   "execution_count": 5,
   "metadata": {},
   "outputs": [],
   "source": [
    "def reset_graph(seed=2018):\n",
    "    tf.reset_default_graph()\n",
    "    tf.set_random_seed(seed)\n",
    "    np.random.seed(seed)"
   ]
  },
  {
   "cell_type": "code",
   "execution_count": 6,
   "metadata": {
    "collapsed": true
   },
   "outputs": [],
   "source": [
    "def binarize_pos_neg(score):\n",
    "    if score >= 5.0:\n",
    "        score = 1\n",
    "    else:\n",
    "        score = 0\n",
    "    return score"
   ]
  },
  {
   "cell_type": "code",
   "execution_count": 7,
   "metadata": {},
   "outputs": [],
   "source": [
    "class TestCallback(Callback):\n",
    "    def __init__(self, test_data):\n",
    "        self.test_data = test_data\n",
    "\n",
    "    def on_epoch_end(self, epoch, logs={}):\n",
    "        x, y = self.test_data\n",
    "        loss, acc = self.model.evaluate(x, y, verbose=0)\n",
    "        print('\\nTesting loss: {}, acc: {}\\n'.format(loss, acc))"
   ]
  },
  {
   "cell_type": "code",
   "execution_count": 17,
   "metadata": {},
   "outputs": [],
   "source": [
    "def load_sentence_labels(data_path):\n",
    "    pos_neg_data_pre = pd.read_csv(data_path, delimiter='\\t')\n",
    "    pos_neg_data_pre.rename(columns={'긍정/부정 척도': 'sentiment'}, inplace=True)\n",
    "\n",
    "    neutral_sentiment = pos_neg_data_pre[pos_neg_data_pre['sentiment'] == 4.0]\n",
    "    neutral_sentiment_idx = neutral_sentiment.index\n",
    "\n",
    "    pos_neg_data_pre_wo_neutral = pos_neg_data_pre.drop(neutral_sentiment_idx).reset_index(drop=True)\n",
    "    pos_neg_data_pre_wo_neutral.drop(['명확도', 'Emojiness'], axis=1, inplace=True)\n",
    "\n",
    "    pos_neg_data = pos_neg_data_pre_wo_neutral.copy()\n",
    "    pos_neg_data['sentiment'] = pos_neg_data['sentiment'].apply(binarize_pos_neg)\n",
    "\n",
    "    sentences = pos_neg_data['queries']\n",
    "    labels = np.asarray(pos_neg_data['sentiment'])\n",
    "    \n",
    "    return sentences, labels"
   ]
  },
  {
   "cell_type": "code",
   "execution_count": 6,
   "metadata": {
    "collapsed": true
   },
   "outputs": [],
   "source": [
    "# pos_neg_data_pre = pd.read_csv('pos_neg_labeling_7scaled.tsv', delimiter='\\t')\n",
    "# pos_neg_data_pre.rename(columns={'긍정/부정 척도': 'sentiment'}, inplace=True)\n",
    "\n",
    "# neutral_sentiment = pos_neg_data_pre[pos_neg_data_pre['sentiment'] == 4.0]\n",
    "# neutral_sentiment_idx = neutral_sentiment.index\n",
    "\n",
    "# pos_neg_data_pre_wo_neutral = pos_neg_data_pre.drop(neutral_sentiment_idx).reset_index(drop=True)\n",
    "# pos_neg_data_pre_wo_neutral.drop(['명확도', 'Emojiness'], axis=1, inplace=True)\n",
    "\n",
    "# pos_neg_data = pos_neg_data_pre_wo_neutral.copy()\n",
    "# pos_neg_data['sentiment'] = pos_neg_data['sentiment'].apply(binarize_pos_neg)\n",
    "\n",
    "# sentences = pos_neg_data['queries']\n",
    "# sentence_splitted = [sentence.split(' ') for sentence in sentences]"
   ]
  },
  {
   "cell_type": "code",
   "execution_count": 10,
   "metadata": {
    "collapsed": true
   },
   "outputs": [],
   "source": [
    "# vocab_file = '/media/scatter/scatterdisk/sandbox_temp/data/kakaotalk_sol_unique_tokens.txt'\n",
    "vocab_file = '/media/scatter/scatterdisk/sandbox_temp/data/pingpong_unique_tokens.txt'\n",
    "vocab = load_vocab(vocab_file, 50)"
   ]
  },
  {
   "cell_type": "code",
   "execution_count": 64,
   "metadata": {},
   "outputs": [],
   "source": [
    "data_path = 'pos_neg_labeling_7scaled.tsv'\n",
    "scores_path = '/media/scatter/scatterdisk/data/fasttext.soynlp_280K.256D/soynlp_scores.sol.100M.txt'\n",
    "\n",
    "sentences, labels = load_sentence_labels(data_path)\n",
    "scores = load_soynlp_scores(scores_path)\n",
    "max_score_tokenizr = MaxScoreTokenizer(scores=scores)\n",
    "sentences_tokenized = [max_score_tokenizr.tokenize(line) for line in sentences]"
   ]
  },
  {
   "cell_type": "code",
   "execution_count": 65,
   "metadata": {},
   "outputs": [
    {
     "data": {
      "text/plain": [
       "[[191, 155, 266, 188],\n",
       " [57, 1478, 266, 209],\n",
       " [174, 4374, 157],\n",
       " [313, 188],\n",
       " [2, 559, 3432, 798, 3023, 407],\n",
       " [275, 2005, 308, 82, 1871, 3812, 1590, 512],\n",
       " [4884],\n",
       " [57, 2, 948, 3381],\n",
       " [4884, 139, 157],\n",
       " [50583, 2387]]"
      ]
     },
     "execution_count": 65,
     "metadata": {},
     "output_type": "execute_result"
    }
   ],
   "source": [
    "sentences_encoded = []\n",
    "\n",
    "for sentence in sentences_tokenized:\n",
    "    sentence_encoded = []\n",
    "    for word in sentence:\n",
    "        sentence_encoded.append(vocab.word_to_id(word))\n",
    "    sentences_encoded.append(sentence_encoded)\n",
    "\n",
    "sentences_encoded[:10]"
   ]
  },
  {
   "cell_type": "code",
   "execution_count": 66,
   "metadata": {},
   "outputs": [
    {
     "name": "stdout",
     "output_type": "stream",
     "text": [
      "2886\n"
     ]
    }
   ],
   "source": [
    "word_index = {}\n",
    "\n",
    "for sentence in sentences:\n",
    "    for word in sentence.split(' '):\n",
    "        if word not in word_index:\n",
    "            word_index[word] = len(word_index)\n",
    "\n",
    "print(len(word_index))"
   ]
  },
  {
   "cell_type": "code",
   "execution_count": 67,
   "metadata": {},
   "outputs": [
    {
     "data": {
      "text/plain": [
       "14"
      ]
     },
     "execution_count": 67,
     "metadata": {},
     "output_type": "execute_result"
    }
   ],
   "source": [
    "MAX_SEQUENCE_LENGTH = max(len(sentence_encoded) \n",
    "                          for sentence_encoded in sentences_encoded)\n",
    "MAX_SEQUENCE_LENGTH"
   ]
  },
  {
   "cell_type": "code",
   "execution_count": 68,
   "metadata": {},
   "outputs": [
    {
     "name": "stdout",
     "output_type": "stream",
     "text": [
      "INFO:tensorflow:Restoring parameters from /media/scatter/scatterdisk/elmo_ckpt/elmo_ckpt_0907_2147/model_batch12600.ckpt-12600\n"
     ]
    }
   ],
   "source": [
    "VOCAB_SIZE = vocab.size\n",
    "EMBEDDING_DIM = 256\n",
    "\n",
    "ROOT_PATH = '/media/scatter/scatterdisk/elmo_ckpt/'\n",
    "\n",
    "# ckpt_file = os.path.join(ROOT_PATH, 'elmo_ckpt_0831_1233/model_batch4700.ckpt-4700')\n",
    "# ckpt_file = os.path.join(ROOT_PATH, 'elmo_ckpt_0904_1132/model_batch9200.ckpt-9200')\n",
    "ckpt_file = os.path.join(ROOT_PATH, 'elmo_ckpt_0907_2147/model_batch12600.ckpt-12600')\n",
    "\n",
    "w = tf.Variable(tf.constant(0.0, shape=[VOCAB_SIZE, EMBEDDING_DIM]),\n",
    "                trainable=False, name='W')\n",
    "# sentences_placeholder = tf.placeholder(tf.int32, shape=[None, None])\n",
    "words_placeholder = tf.placeholder(tf.int32, shape=[None])\n",
    "\n",
    "# config = tf.ConfigProto(allow_soft_placement=True)\n",
    "gpu_options = tf.GPUOptions(per_process_gpu_memory_fraction=0.333)\n",
    "config = tf.ConfigProto(gpu_options=gpu_options)\n",
    "config.gpu_options.allow_growth = True\n",
    "# sess = tf.Session(config=config)\n",
    "\n",
    "with tf.Session(config=config) as sess:\n",
    "    embedding_saver = tf.train.Saver({'lm/softmax/W': w})\n",
    "    embedding_saver.restore(sess, ckpt_file)\n",
    "    embedding_lookup = tf.nn.embedding_lookup(w, words_placeholder)\n",
    "\n",
    "    embedding_matrix = np.zeros((len(word_index)+1, EMBEDDING_DIM))\n",
    "\n",
    "    for word, i in word_index.items():\n",
    "        embed = sess.run(embedding_lookup, feed_dict={words_placeholder: [vocab.word_to_id(word)]})\n",
    "        embedding_matrix[i] = embed"
   ]
  },
  {
   "cell_type": "code",
   "execution_count": 69,
   "metadata": {},
   "outputs": [],
   "source": [
    "def get_word_id(word):\n",
    "    return vocab.word_to_id(word)"
   ]
  },
  {
   "cell_type": "code",
   "execution_count": 23,
   "metadata": {},
   "outputs": [],
   "source": [
    "# VOCAB_SIZE = vocab.size\n",
    "# EMBEDDING_DIM = 256\n",
    "\n",
    "# ROOT_PATH = '/media/scatter/scatterdisk/elmo_ckpt/'\n",
    "\n",
    "# # ckpt_file = os.path.join(ROOT_PATH, 'elmo_ckpt_0831_1233/model_batch4700.ckpt-4700')\n",
    "# # ckpt_file = os.path.join(ROOT_PATH, 'elmo_ckpt_0904_1132/model_batch9200.ckpt-9200')\n",
    "# ckpt_file = os.path.join(ROOT_PATH, 'elmo_ckpt_0904_1535/model_batch9400.ckpt-9400')\n",
    "\n",
    "# w = tf.Variable(tf.constant(0.0, shape=[VOCAB_SIZE, EMBEDDING_DIM]),\n",
    "#                 trainable=False, name='W')"
   ]
  },
  {
   "cell_type": "code",
   "execution_count": 24,
   "metadata": {},
   "outputs": [],
   "source": [
    "# normalized_embedding = tf.nn.l2_normalize(w, dim=1)\n",
    "# nearby_word = tf.placeholder(dtype=tf.int32)\n",
    "# nearby_emb = tf.gather(normalized_embedding, nearby_word)\n",
    "# nearby_dist = tf.matmul(nearby_emb, normalized_embedding, transpose_b=True)\n",
    "# nearby_val, nearby_idx = tf.nn.top_k(nearby_dist, 10)"
   ]
  },
  {
   "cell_type": "code",
   "execution_count": 25,
   "metadata": {},
   "outputs": [],
   "source": [
    "# sess = tf.InteractiveSession(config=config)\n",
    "\n",
    "# tf.global_variables_initializer().run()\n",
    "# vals, idx = sess.run([nearby_val, nearby_idx], \n",
    "#                      feed_dict={nearby_word: np.array([2355])})\n",
    "# sess.close()"
   ]
  },
  {
   "cell_type": "code",
   "execution_count": 26,
   "metadata": {},
   "outputs": [],
   "source": [
    "# def build_eval_graph(target_word):\n",
    "#     normarlized_embedding = tf.nn.l2_normalize(embedding_matrix, dim=1)\n",
    "#     target_id = vocab.word_to_id(target_word)\n",
    "#     target_embedding = normarlized_embedding[target_id]\n",
    "#     cosine_sim = tf.matmul(target_embedding, \n",
    "#                            normarlized_embedding,\n",
    "#                            transpose_b=True)\n",
    "#     nearby_val, nearby_idx = tf.nn.top_k(cosine_sim, 10)\n",
    "#     return nearby_val, nearby_idx"
   ]
  },
  {
   "cell_type": "code",
   "execution_count": 27,
   "metadata": {},
   "outputs": [],
   "source": [
    "# sess = tf.InteractiveSession()\n",
    "\n",
    "# k_words_val = k_words.values.eval()\n",
    "# k_words_indicies = k_words.indices.eval()\n",
    "# sess.close()"
   ]
  },
  {
   "cell_type": "code",
   "execution_count": null,
   "metadata": {},
   "outputs": [],
   "source": []
  },
  {
   "cell_type": "code",
   "execution_count": 70,
   "metadata": {
    "collapsed": true
   },
   "outputs": [],
   "source": [
    "VALIDATION_SPLIT = 0.1\n",
    "\n",
    "# labels = np_utils.to_categorical(labels)\n",
    "data = pad_sequences(sentences_encoded, maxlen=MAX_SEQUENCE_LENGTH)\n",
    "\n",
    "indices = np.arange(data.shape[0])\n",
    "np.random.shuffle(indices)\n",
    "data = data[indices]\n",
    "labels = labels[indices]\n",
    "nb_validation_samples = int(VALIDATION_SPLIT * data.shape[0])"
   ]
  },
  {
   "cell_type": "code",
   "execution_count": 71,
   "metadata": {
    "collapsed": true
   },
   "outputs": [],
   "source": [
    "x_train = data[:-nb_validation_samples]\n",
    "y_train = labels[:-nb_validation_samples]\n",
    "x_val = data[-nb_validation_samples:]\n",
    "y_val = labels[-nb_validation_samples:]\n",
    "\n",
    "x_train, x_test, y_train, y_test = train_test_split(x_train, y_train, test_size=0.1)"
   ]
  },
  {
   "cell_type": "code",
   "execution_count": 72,
   "metadata": {},
   "outputs": [
    {
     "data": {
      "text/plain": [
       "((1296, 14), (160, 14), (145, 14))"
      ]
     },
     "execution_count": 72,
     "metadata": {},
     "output_type": "execute_result"
    }
   ],
   "source": [
    "x_train.shape, x_val.shape, x_test.shape"
   ]
  },
  {
   "cell_type": "code",
   "execution_count": 73,
   "metadata": {},
   "outputs": [],
   "source": [
    "# # keras GPU allocation\n",
    "\n",
    "# from keras.backend.tensorflow_backend import set_session\n",
    "# config = tf.ConfigProto()\n",
    "# config.gpu_options.per_process_gpu_memory_fraction = 0.7\n",
    "# config.gpu_options.allow_growth = True\n",
    "# # config.gpu_options.visible_device_list = '1'\n",
    "# set_session(tf.Session(config=config))"
   ]
  },
  {
   "cell_type": "code",
   "execution_count": 74,
   "metadata": {},
   "outputs": [],
   "source": [
    "reset_graph()"
   ]
  },
  {
   "cell_type": "code",
   "execution_count": 79,
   "metadata": {},
   "outputs": [],
   "source": [
    "embedding_layer = Embedding(2887,\n",
    "                            256, \n",
    "                            weights=[avg_embedding_matrix], \n",
    "                            input_length=MAX_SEQUENCE_LENGTH, \n",
    "                            trainable=False)"
   ]
  },
  {
   "cell_type": "code",
   "execution_count": 75,
   "metadata": {},
   "outputs": [
    {
     "data": {
      "text/plain": [
       "(2887,)"
      ]
     },
     "execution_count": 75,
     "metadata": {},
     "output_type": "execute_result"
    }
   ],
   "source": [
    "avg_embedding_matrix = np.average(embedding_matrix, axis=1)\n",
    "avg_embedding_matrix.shape"
   ]
  },
  {
   "cell_type": "code",
   "execution_count": 76,
   "metadata": {},
   "outputs": [],
   "source": [
    "weighted_data = np.full(data.shape, fill_value=np.random.uniform(-0.5, 0.5))\n",
    "\n",
    "for i in range(len(data)):\n",
    "    for j in range(9):\n",
    "        if data[i][j] == 0:\n",
    "            continue\n",
    "        else:\n",
    "            weighted_data[i][j] = avg_embedding_matrix[i]"
   ]
  },
  {
   "cell_type": "code",
   "execution_count": 77,
   "metadata": {},
   "outputs": [
    {
     "name": "stdout",
     "output_type": "stream",
     "text": [
      "(1601, 14)\n"
     ]
    },
    {
     "data": {
      "text/plain": [
       "array([ 0.38234931,  0.38234931,  0.38234931,  0.38234931,  0.38234931,\n",
       "       -0.00913005, -0.00913005, -0.00913005, -0.00913005,  0.38234931,\n",
       "        0.38234931,  0.38234931,  0.38234931,  0.38234931])"
      ]
     },
     "execution_count": 77,
     "metadata": {},
     "output_type": "execute_result"
    }
   ],
   "source": [
    "print(weighted_data.shape)\n",
    "weighted_data[-1]"
   ]
  },
  {
   "cell_type": "code",
   "execution_count": 106,
   "metadata": {},
   "outputs": [],
   "source": [
    "from imblearn.under_sampling import RandomUnderSampler\n",
    "from imblearn.over_sampling import RandomOverSampler\n",
    "\n",
    "# data_undersampled, labels_undersampled = RandomUnderSampler(random_state=42).fit_sample(weighted_data, labels)\n",
    "data_oversampled, labels_oversampled = RandomOverSampler(random_state=42).fit_sample(weighted_data, labels)"
   ]
  },
  {
   "cell_type": "code",
   "execution_count": 107,
   "metadata": {},
   "outputs": [],
   "source": [
    "# x_train, x_val, y_train, y_val = train_test_split(weighted_data, labels, test_size=0.30)\n",
    "# x_train, x_val, y_train, y_val = train_test_split(data_undersampled, labels_undersampled, test_size=0.30)\n",
    "x_train, x_val, y_train, y_val = train_test_split(data_oversampled, labels_oversampled, test_size=0.30)\n",
    "x_val, x_test, y_val, y_test = train_test_split(x_val, y_val)"
   ]
  },
  {
   "cell_type": "code",
   "execution_count": 108,
   "metadata": {},
   "outputs": [
    {
     "data": {
      "text/plain": [
       "((1943, 14), (624, 14), (209, 14))"
      ]
     },
     "execution_count": 108,
     "metadata": {},
     "output_type": "execute_result"
    }
   ],
   "source": [
    "x_train.shape, x_val.shape, x_test.shape"
   ]
  },
  {
   "cell_type": "code",
   "execution_count": 109,
   "metadata": {},
   "outputs": [],
   "source": [
    "regressor = LogisticRegression()\n",
    "\n",
    "model = regressor.fit(x_train, y_train)"
   ]
  },
  {
   "cell_type": "code",
   "execution_count": 110,
   "metadata": {},
   "outputs": [
    {
     "data": {
      "text/plain": [
       "array([0.528     , 0.52      , 0.568     , 0.536     , 0.53225806])"
      ]
     },
     "execution_count": 110,
     "metadata": {},
     "output_type": "execute_result"
    }
   ],
   "source": [
    "cross_val_results = cross_val_score(model, x_val, y_val, cv=5)\n",
    "cross_val_results"
   ]
  },
  {
   "cell_type": "code",
   "execution_count": 111,
   "metadata": {},
   "outputs": [],
   "source": [
    "pred = model.predict(x_test)"
   ]
  },
  {
   "cell_type": "code",
   "execution_count": 114,
   "metadata": {},
   "outputs": [],
   "source": []
  },
  {
   "cell_type": "code",
   "execution_count": 117,
   "metadata": {},
   "outputs": [
    {
     "name": "stdout",
     "output_type": "stream",
     "text": [
      "             precision    recall  f1-score   support\n",
      "\n",
      "          0       0.56      0.95      0.71       112\n",
      "          1       0.71      0.15      0.25        97\n",
      "\n",
      "avg / total       0.63      0.58      0.50       209\n",
      "\n"
     ]
    }
   ],
   "source": [
    "print(classification_report(y_test, pred))"
   ]
  },
  {
   "cell_type": "code",
   "execution_count": null,
   "metadata": {},
   "outputs": [],
   "source": []
  },
  {
   "cell_type": "code",
   "execution_count": null,
   "metadata": {},
   "outputs": [],
   "source": []
  },
  {
   "cell_type": "code",
   "execution_count": null,
   "metadata": {},
   "outputs": [],
   "source": []
  },
  {
   "cell_type": "code",
   "execution_count": null,
   "metadata": {},
   "outputs": [],
   "source": []
  },
  {
   "cell_type": "code",
   "execution_count": null,
   "metadata": {},
   "outputs": [],
   "source": []
  },
  {
   "cell_type": "code",
   "execution_count": null,
   "metadata": {},
   "outputs": [],
   "source": []
  },
  {
   "cell_type": "code",
   "execution_count": 88,
   "metadata": {},
   "outputs": [],
   "source": [
    "model = Sequential()\n",
    "model.add(embedding_layer)\n",
    "# model.add(Flatten())\n",
    "model.add(Dense(2, activation='softmax'))\n",
    "model.compile(optimizer='sgd',\n",
    "              loss='binary_crossentropy',\n",
    "              metrics=['accuracy'])\n",
    "\n",
    "\n",
    "# 모델 경량화\n",
    "print(model.summary())"
   ]
  },
  {
   "cell_type": "code",
   "execution_count": 28,
   "metadata": {},
   "outputs": [
    {
     "name": "stdout",
     "output_type": "stream",
     "text": [
      "Train on 1296 samples, validate on 160 samples\n",
      "Epoch 1/20\n",
      " 672/1296 [==============>...............] - ETA: 0s - loss: 0.4522 - acc: 0.8661\n",
      "Testing loss: 0.47499111931899496, acc: 0.8206896572277463\n",
      "\n",
      "1296/1296 [==============================] - 0s - loss: 0.4187 - acc: 0.8704 - val_loss: 0.3660 - val_acc: 0.8812\n",
      "Epoch 2/20\n",
      " 768/1296 [================>.............] - ETA: 0s - loss: 0.3733 - acc: 0.8776\n",
      "Testing loss: 0.47382069743912797, acc: 0.8206896572277463\n",
      "\n",
      "1296/1296 [==============================] - 0s - loss: 0.3875 - acc: 0.8704 - val_loss: 0.3652 - val_acc: 0.8812\n",
      "Epoch 3/20\n",
      " 960/1296 [=====================>........] - ETA: 0s - loss: 0.3886 - acc: 0.8688\n",
      "Testing loss: 0.4775612370721225, acc: 0.8206896572277463\n",
      "\n",
      "1296/1296 [==============================] - 0s - loss: 0.3865 - acc: 0.8704 - val_loss: 0.3624 - val_acc: 0.8812\n",
      "Epoch 4/20\n",
      " 992/1296 [=====================>........] - ETA: 0s - loss: 0.3776 - acc: 0.8740\n",
      "Testing loss: 0.4782530455753721, acc: 0.8206896572277463\n",
      "\n",
      "1296/1296 [==============================] - 0s - loss: 0.3852 - acc: 0.8704 - val_loss: 0.3611 - val_acc: 0.8812\n",
      "Epoch 5/20\n",
      " 928/1296 [====================>.........] - ETA: 0s - loss: 0.3742 - acc: 0.8750\n",
      "Testing loss: 0.47837497283672464, acc: 0.8206896572277463\n",
      "\n",
      "1296/1296 [==============================] - 0s - loss: 0.3845 - acc: 0.8704 - val_loss: 0.3600 - val_acc: 0.8812\n",
      "Epoch 6/20\n",
      " 800/1296 [=================>............] - ETA: 0s - loss: 0.3997 - acc: 0.8600\n",
      "Testing loss: 0.4801811399130986, acc: 0.8206896572277463\n",
      "\n",
      "1296/1296 [==============================] - 0s - loss: 0.3834 - acc: 0.8704 - val_loss: 0.3589 - val_acc: 0.8812\n",
      "Epoch 7/20\n",
      " 832/1296 [==================>...........] - ETA: 0s - loss: 0.3737 - acc: 0.8750\n",
      "Testing loss: 0.47563539291250295, acc: 0.8206896572277463\n",
      "\n",
      "1296/1296 [==============================] - 0s - loss: 0.3826 - acc: 0.8704 - val_loss: 0.3587 - val_acc: 0.8812\n",
      "Epoch 8/20\n",
      " 992/1296 [=====================>........] - ETA: 0s - loss: 0.3732 - acc: 0.8750\n",
      "Testing loss: 0.4736774004738906, acc: 0.8206896572277463\n",
      "\n",
      "1296/1296 [==============================] - 0s - loss: 0.3821 - acc: 0.8704 - val_loss: 0.3587 - val_acc: 0.8812\n",
      "Epoch 9/20\n",
      " 960/1296 [=====================>........] - ETA: 0s - loss: 0.3942 - acc: 0.8635\n",
      "Testing loss: 0.48347610029680976, acc: 0.8206896572277463\n",
      "\n",
      "1296/1296 [==============================] - 0s - loss: 0.3806 - acc: 0.8704 - val_loss: 0.3564 - val_acc: 0.8812\n",
      "Epoch 10/20\n",
      " 896/1296 [===================>..........] - ETA: 0s - loss: 0.3589 - acc: 0.8817\n",
      "Testing loss: 0.4768990134370738, acc: 0.8206896572277463\n",
      "\n",
      "1296/1296 [==============================] - 0s - loss: 0.3802 - acc: 0.8704 - val_loss: 0.3561 - val_acc: 0.8812\n",
      "Epoch 11/20\n",
      " 896/1296 [===================>..........] - ETA: 0s - loss: 0.3938 - acc: 0.8616\n",
      "Testing loss: 0.48349323642664943, acc: 0.8206896572277463\n",
      "\n",
      "1296/1296 [==============================] - 0s - loss: 0.3797 - acc: 0.8704 - val_loss: 0.3551 - val_acc: 0.8812\n",
      "Epoch 12/20\n",
      " 960/1296 [=====================>........] - ETA: 0s - loss: 0.3913 - acc: 0.8635\n",
      "Testing loss: 0.47906571544449905, acc: 0.8206896572277463\n",
      "\n",
      "1296/1296 [==============================] - 0s - loss: 0.3792 - acc: 0.8704 - val_loss: 0.3544 - val_acc: 0.8812\n",
      "Epoch 13/20\n",
      " 704/1296 [===============>..............] - ETA: 0s - loss: 0.3730 - acc: 0.8736\n",
      "Testing loss: 0.4779386010663263, acc: 0.8206896572277463\n",
      "\n",
      "1296/1296 [==============================] - 0s - loss: 0.3787 - acc: 0.8704 - val_loss: 0.3540 - val_acc: 0.8812\n",
      "Epoch 14/20\n",
      "1024/1296 [======================>.......] - ETA: 0s - loss: 0.3734 - acc: 0.8721\n",
      "Testing loss: 0.4757641290796214, acc: 0.8206896572277463\n",
      "\n",
      "1296/1296 [==============================] - 0s - loss: 0.3781 - acc: 0.8704 - val_loss: 0.3540 - val_acc: 0.8812\n",
      "Epoch 15/20\n",
      "1056/1296 [=======================>......] - ETA: 0s - loss: 0.3742 - acc: 0.8722\n",
      "Testing loss: 0.4765823060068591, acc: 0.8206896572277463\n",
      "\n",
      "1296/1296 [==============================] - 0s - loss: 0.3777 - acc: 0.8704 - val_loss: 0.3533 - val_acc: 0.8812\n",
      "Epoch 16/20\n",
      " 928/1296 [====================>.........] - ETA: 0s - loss: 0.3746 - acc: 0.8718\n",
      "Testing loss: 0.47636597362057914, acc: 0.8206896572277463\n",
      "\n",
      "1296/1296 [==============================] - 0s - loss: 0.3771 - acc: 0.8704 - val_loss: 0.3528 - val_acc: 0.8812\n",
      "Epoch 17/20\n",
      "1056/1296 [=======================>......] - ETA: 0s - loss: 0.3713 - acc: 0.8741\n",
      "Testing loss: 0.4775811146045553, acc: 0.8206896572277463\n",
      "\n",
      "1296/1296 [==============================] - 0s - loss: 0.3766 - acc: 0.8704 - val_loss: 0.3522 - val_acc: 0.8812\n",
      "Epoch 18/20\n",
      "1120/1296 [========================>.....] - ETA: 0s - loss: 0.3726 - acc: 0.8714\n",
      "Testing loss: 0.4780052069959969, acc: 0.8206896572277463\n",
      "\n",
      "1296/1296 [==============================] - 0s - loss: 0.3762 - acc: 0.8704 - val_loss: 0.3517 - val_acc: 0.8812\n",
      "Epoch 19/20\n",
      "1088/1296 [========================>.....] - ETA: 0s - loss: 0.3788 - acc: 0.8676\n",
      "Testing loss: 0.4821241941945306, acc: 0.8206896572277463\n",
      "\n",
      "1296/1296 [==============================] - 0s - loss: 0.3756 - acc: 0.8704 - val_loss: 0.3510 - val_acc: 0.8812\n",
      "Epoch 20/20\n",
      "1120/1296 [========================>.....] - ETA: 0s - loss: 0.3850 - acc: 0.8652\n",
      "Testing loss: 0.47880628191191577, acc: 0.8206896572277463\n",
      "\n",
      "1296/1296 [==============================] - 0s - loss: 0.3759 - acc: 0.8704 - val_loss: 0.3509 - val_acc: 0.8812\n"
     ]
    }
   ],
   "source": [
    "history = model.fit(x_train, y_train, \n",
    "                    epochs=20, \n",
    "                    validation_data=(x_val, y_val),\n",
    "                    class_weight='auto',\n",
    "                    callbacks=[TestCallback((x_test, y_test))])"
   ]
  },
  {
   "cell_type": "code",
   "execution_count": 29,
   "metadata": {
    "collapsed": true
   },
   "outputs": [],
   "source": [
    "import matplotlib.pyplot as plt\n",
    "\n",
    "\n",
    "def plot_loss(history):\n",
    "    plt.plot(history.history['loss'])\n",
    "    plt.plot(history.history['val_loss'])\n",
    "    plt.title(\"Model Loss\")\n",
    "    plt.ylabel(\"Loss\")\n",
    "    plt.xlabel(\"Epoch\")\n",
    "    plt.legend([\"Train\", \"Test\"], loc=0)\n",
    "\n",
    "\n",
    "def plot_acc(history):\n",
    "    plt.plot(history.history['acc'])\n",
    "    plt.plot(history.history['val_acc'])\n",
    "    plt.title(\"Model Accuracy\")\n",
    "    plt.ylabel(\"Accuracy\")\n",
    "    plt.xlabel(\"Epoch\")\n",
    "    plt.legend([\"Train\", \"Test\"], loc=0)"
   ]
  },
  {
   "cell_type": "code",
   "execution_count": 30,
   "metadata": {},
   "outputs": [
    {
     "data": {
      "image/png": "[encoded data removed]",
      "text/plain": [
       "<Figure size 936x360 with 2 Axes>"
      ]
     },
     "metadata": {},
     "output_type": "display_data"
    }
   ],
   "source": [
    "plt.figure(figsize=(13,5))\n",
    "plt.subplot(121)\n",
    "plot_acc(history)\n",
    "plt.subplot(122)\n",
    "plot_loss(history)"
   ]
  },
  {
   "cell_type": "code",
   "execution_count": null,
   "metadata": {},
   "outputs": [],
   "source": []
  },
  {
   "cell_type": "code",
   "execution_count": null,
   "metadata": {},
   "outputs": [],
   "source": []
  },
  {
   "cell_type": "code",
   "execution_count": 171,
   "metadata": {},
   "outputs": [],
   "source": [
    "from sklearn.feature_extraction.text import TfidfVectorizer\n",
    "\n",
    "vectorizer = TfidfVectorizer(x_train)"
   ]
  },
  {
   "cell_type": "code",
   "execution_count": 161,
   "metadata": {},
   "outputs": [],
   "source": [
    "sentences_tokenized_joined = [' '.join(line) for line in sentences_tokenized]\n",
    "# tfidf_data = vectorizer.fit_transform(sentences_tokenized_joined)\n",
    "# data_oversampled_tfidf, labels_oversampled_tfidf = RandomOverSampler(random_state=42).fit_sample(sentences_tokenized_joined, labels)"
   ]
  },
  {
   "cell_type": "code",
   "execution_count": 164,
   "metadata": {},
   "outputs": [],
   "source": [
    "x_train, x_val, y_train, y_val = train_test_split(\n",
    "    sentences_tokenized_joined, labels, test_size=0.30)\n",
    "x_val, x_test, y_val, y_test = train_test_split(x_val, y_val)"
   ]
  },
  {
   "cell_type": "code",
   "execution_count": 175,
   "metadata": {},
   "outputs": [],
   "source": [
    "vectorizer.fit(x_train)\n",
    "x_train_tfidf = vectorizer.transform(x_train)\n",
    "\n",
    "x_val_tfidf = vectorizer.transform(x_val)\n",
    "x_test_tfidf = vectorizer.transform(x_test)"
   ]
  },
  {
   "cell_type": "code",
   "execution_count": 176,
   "metadata": {},
   "outputs": [],
   "source": [
    "model_tfidf = regressor.fit(x_train_tfidf, y_train_tfidf)"
   ]
  },
  {
   "cell_type": "code",
   "execution_count": 177,
   "metadata": {},
   "outputs": [
    {
     "data": {
      "text/plain": [
       "array([0.87603306, 0.88333333, 0.88235294])"
      ]
     },
     "execution_count": 177,
     "metadata": {},
     "output_type": "execute_result"
    }
   ],
   "source": [
    "cross_val_score(model_tfidf, x_val_tfidf, y_val_tfidf)"
   ]
  },
  {
   "cell_type": "code",
   "execution_count": 178,
   "metadata": {},
   "outputs": [],
   "source": [
    "pred_tfidf = model_tfidf.predict(x_test_tfidf)"
   ]
  },
  {
   "cell_type": "code",
   "execution_count": 179,
   "metadata": {},
   "outputs": [
    {
     "data": {
      "text/plain": [
       "array([[101,  20],\n",
       "       [  0,   0]])"
      ]
     },
     "execution_count": 179,
     "metadata": {},
     "output_type": "execute_result"
    }
   ],
   "source": [
    "confusion_matrix(pred_tfidf, y_test_tfidf)"
   ]
  },
  {
   "cell_type": "code",
   "execution_count": 180,
   "metadata": {},
   "outputs": [
    {
     "name": "stdout",
     "output_type": "stream",
     "text": [
      "             precision    recall  f1-score   support\n",
      "\n",
      "          0       1.00      0.83      0.91       121\n",
      "          1       0.00      0.00      0.00         0\n",
      "\n",
      "avg / total       1.00      0.83      0.91       121\n",
      "\n"
     ]
    },
    {
     "name": "stderr",
     "output_type": "stream",
     "text": [
      "/home/sunwoong/sunwoongenv/lib/python3.5/site-packages/sklearn/metrics/classification.py:1137: UndefinedMetricWarning: Recall and F-score are ill-defined and being set to 0.0 in labels with no true samples.\n",
      "  'recall', 'true', average, warn_for)\n"
     ]
    }
   ],
   "source": [
    "print(classification_report(pred_tfidf, y_test_tfidf))"
   ]
  },
  {
   "cell_type": "code",
   "execution_count": null,
   "metadata": {},
   "outputs": [],
   "source": []
  },
  {
   "cell_type": "code",
   "execution_count": null,
   "metadata": {},
   "outputs": [],
   "source": []
  },
  {
   "cell_type": "code",
   "execution_count": null,
   "metadata": {},
   "outputs": [],
   "source": []
  }
 ],
 "metadata": {
  "kernelspec": {
   "display_name": "sunwoongenv",
   "language": "python",
   "name": "sunwoongenv"
  },
  "language_info": {
   "codemirror_mode": {
    "name": "ipython",
    "version": 3
   },
   "file_extension": ".py",
   "mimetype": "text/x-python",
   "name": "python",
   "nbconvert_exporter": "python",
   "pygments_lexer": "ipython3",
   "version": "3.5.2"
  }
 },
 "nbformat": 4,
 "nbformat_minor": 2
}
