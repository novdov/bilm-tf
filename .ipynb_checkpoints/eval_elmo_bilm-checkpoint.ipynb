{
 "cells": [
  {
   "cell_type": "markdown",
   "metadata": {},
   "source": [
    "## ELMo Evaluation\n",
    "\n",
    "- Sentiment Analysis\n",
    "    - Dataset: Pos_Neg_Labeling\n",
    "        - 중립을 제외한 1601개 문장\n",
    "        - 부정 1388 / 긍정 213 (Baseline: 0.867)\n",
    "    \n",
    "\n",
    "- Similarity\n",
    "    - Cosine similarity"
   ]
  },
  {
   "cell_type": "code",
   "execution_count": 1,
   "metadata": {},
   "outputs": [
    {
     "name": "stderr",
     "output_type": "stream",
     "text": [
      "Using TensorFlow backend.\n"
     ]
    },
    {
     "name": "stdout",
     "output_type": "stream",
     "text": [
      "1.2.0\n"
     ]
    }
   ],
   "source": [
    "from collections import defaultdict\n",
    "import numpy as np\n",
    "import os\n",
    "import pandas as pd\n",
    "from pprint import pprint\n",
    "from sklearn.model_selection import train_test_split\n",
    "import tensorflow as tf\n",
    "\n",
    "from keras.callbacks import Callback\n",
    "from keras.models import Model, Sequential\n",
    "from keras.layers import (\n",
    "    Activation,\n",
    "    Dense,\n",
    "    Embedding,\n",
    "    Input,\n",
    "    Flatten\n",
    ")\n",
    "from keras.preprocessing.sequence import pad_sequences\n",
    "from keras.utils import np_utils\n",
    "\n",
    "from bilm.training import load_vocab\n",
    "\n",
    "print(tf.__version__)"
   ]
  },
  {
   "cell_type": "code",
   "execution_count": 16,
   "metadata": {},
   "outputs": [
    {
     "ename": "ImportError",
     "evalue": "No module named 'pingpong'",
     "output_type": "error",
     "traceback": [
      "\u001b[0;31m---------------------------------------------------------------------------\u001b[0m",
      "\u001b[0;31mImportError\u001b[0m                               Traceback (most recent call last)",
      "\u001b[0;32m<ipython-input-16-e5283cfe338b>\u001b[0m in \u001b[0;36m<module>\u001b[0;34m()\u001b[0m\n\u001b[1;32m      1\u001b[0m \u001b[0;32mimport\u001b[0m \u001b[0msys\u001b[0m\u001b[0;34m\u001b[0m\u001b[0m\n\u001b[1;32m      2\u001b[0m \u001b[0msys\u001b[0m\u001b[0;34m.\u001b[0m\u001b[0mpath\u001b[0m\u001b[0;34m.\u001b[0m\u001b[0mappend\u001b[0m\u001b[0;34m(\u001b[0m\u001b[0;34m\"/home/angrypark/pingpong-api/reaction_model/\"\u001b[0m\u001b[0;34m)\u001b[0m\u001b[0;34m\u001b[0m\u001b[0m\n\u001b[0;32m----> 3\u001b[0;31m \u001b[0;32mfrom\u001b[0m \u001b[0mpingpong\u001b[0m\u001b[0;34m.\u001b[0m\u001b[0mutils\u001b[0m \u001b[0;32mimport\u001b[0m \u001b[0mget_ingredient_factory\u001b[0m\u001b[0;34m\u001b[0m\u001b[0m\n\u001b[0m",
      "\u001b[0;31mImportError\u001b[0m: No module named 'pingpong'"
     ]
    }
   ],
   "source": [
    "import sys\n",
    "sys.path.append(\"/home/angrypark/pingpong-api/reaction_model/\")\n",
    "from pingpong.utils import get_ingredient_factory"
   ]
  },
  {
   "cell_type": "code",
   "execution_count": null,
   "metadata": {},
   "outputs": [],
   "source": []
  },
  {
   "cell_type": "code",
   "execution_count": null,
   "metadata": {},
   "outputs": [],
   "source": []
  },
  {
   "cell_type": "code",
   "execution_count": 2,
   "metadata": {},
   "outputs": [],
   "source": [
    "def reset_graph(seed=2018):\n",
    "    tf.reset_default_graph()\n",
    "    tf.set_random_seed(seed)\n",
    "    np.random.seed(seed)"
   ]
  },
  {
   "cell_type": "code",
   "execution_count": 3,
   "metadata": {
    "collapsed": true
   },
   "outputs": [],
   "source": [
    "def binarize_pos_neg(score):\n",
    "    if score >= 5.0:\n",
    "        score = 1\n",
    "    else:\n",
    "        score = 0\n",
    "    return score"
   ]
  },
  {
   "cell_type": "code",
   "execution_count": 4,
   "metadata": {},
   "outputs": [],
   "source": [
    "class TestCallback(Callback):\n",
    "    def __init__(self, test_data):\n",
    "        self.test_data = test_data\n",
    "\n",
    "    def on_epoch_end(self, epoch, logs={}):\n",
    "        x, y = self.test_data\n",
    "        loss, acc = self.model.evaluate(x, y, verbose=0)\n",
    "        print('\\nTesting loss: {}, acc: {}\\n'.format(loss, acc))"
   ]
  },
  {
   "cell_type": "code",
   "execution_count": 5,
   "metadata": {
    "collapsed": true
   },
   "outputs": [],
   "source": [
    "pos_neg_data_pre = pd.read_csv('pos_neg_labeling_7scaled.tsv', delimiter='\\t')\n",
    "pos_neg_data_pre.rename(columns={'긍정/부정 척도': 'sentiment'}, inplace=True)\n",
    "\n",
    "neutral_sentiment = pos_neg_data_pre[pos_neg_data_pre['sentiment'] == 4.0]\n",
    "neutral_sentiment_idx = neutral_sentiment.index\n",
    "\n",
    "pos_neg_data_pre_wo_neutral = pos_neg_data_pre.drop(neutral_sentiment_idx).reset_index(drop=True)\n",
    "pos_neg_data_pre_wo_neutral.drop(['명확도', 'Emojiness'], axis=1, inplace=True)\n",
    "\n",
    "pos_neg_data = pos_neg_data_pre_wo_neutral.copy()\n",
    "pos_neg_data['sentiment'] = pos_neg_data['sentiment'].apply(binarize_pos_neg)\n",
    "\n",
    "sentences = pos_neg_data['queries']\n",
    "sentence_splitted = [sentence.split(' ') for sentence in sentences]"
   ]
  },
  {
   "cell_type": "code",
   "execution_count": 6,
   "metadata": {
    "collapsed": true
   },
   "outputs": [],
   "source": [
    "vocab_file = '/media/scatter/scatterdisk/sandbox_temp/data/kakaotalk_sol_unique_tokens.txt'\n",
    "vocab = load_vocab(vocab_file, 50)"
   ]
  },
  {
   "cell_type": "code",
   "execution_count": 7,
   "metadata": {},
   "outputs": [
    {
     "data": {
      "text/plain": [
       "[[31, 35, 102, 105],\n",
       " [55, 986, 102, 308],\n",
       " [2, 191],\n",
       " [12, 105],\n",
       " [2, 71, 748, 179, 1808, 36],\n",
       " [27, 1574, 2, 2, 2],\n",
       " [1958],\n",
       " [55, 2, 2],\n",
       " [2, 191],\n",
       " [2]]"
      ]
     },
     "execution_count": 7,
     "metadata": {},
     "output_type": "execute_result"
    }
   ],
   "source": [
    "sentences_encoded = []\n",
    "\n",
    "for sentence in sentence_splitted:\n",
    "    sentence_encoded = []\n",
    "    for word in sentence:\n",
    "        sentence_encoded.append(vocab.word_to_id(word))\n",
    "    sentences_encoded.append(sentence_encoded)\n",
    "\n",
    "sentences_encoded[:10]"
   ]
  },
  {
   "cell_type": "code",
   "execution_count": 8,
   "metadata": {},
   "outputs": [
    {
     "data": {
      "text/plain": [
       "9"
      ]
     },
     "execution_count": 8,
     "metadata": {},
     "output_type": "execute_result"
    }
   ],
   "source": [
    "MAX_SEQUENCE_LENGTH = max(len(sentence_encoded) \n",
    "                          for sentence_encoded in sentences_encoded)\n",
    "MAX_SEQUENCE_LENGTH"
   ]
  },
  {
   "cell_type": "code",
   "execution_count": 9,
   "metadata": {},
   "outputs": [
    {
     "name": "stdout",
     "output_type": "stream",
     "text": [
      "2886\n"
     ]
    }
   ],
   "source": [
    "word_index = {}\n",
    "\n",
    "for sentence in sentences:\n",
    "    for word in sentence.split(' '):\n",
    "        if word not in word_index:\n",
    "            word_index[word] = len(word_index)\n",
    "\n",
    "print(len(word_index))"
   ]
  },
  {
   "cell_type": "code",
   "execution_count": 15,
   "metadata": {},
   "outputs": [],
   "source": [
    "# with open('word_index.txt', 'w') as f:\n",
    "#     for word, word_id in word_index.items():\n",
    "#         f.write('{}\\t{}\\n'.format(word, word_id))"
   ]
  },
  {
   "cell_type": "code",
   "execution_count": 10,
   "metadata": {},
   "outputs": [
    {
     "name": "stdout",
     "output_type": "stream",
     "text": [
      "INFO:tensorflow:Restoring parameters from /media/scatter/scatterdisk/elmo_ckpt/elmo_ckpt_0904_1535/model_batch9400.ckpt-9400\n"
     ]
    }
   ],
   "source": [
    "VOCAB_SIZE = 605918\n",
    "EMBEDDING_DIM = 256\n",
    "\n",
    "ROOT_PATH = '/media/scatter/scatterdisk/elmo_ckpt/'\n",
    "\n",
    "# ckpt_file = os.path.join(ROOT_PATH, 'elmo_ckpt_0831_1233/model_batch4700.ckpt-4700')\n",
    "# ckpt_file = os.path.join(ROOT_PATH, 'elmo_ckpt_0904_1132/model_batch9200.ckpt-9200')\n",
    "ckpt_file = os.path.join(ROOT_PATH, 'elmo_ckpt_0904_1535/model_batch9400.ckpt-9400')\n",
    "\n",
    "w = tf.Variable(tf.constant(0.0, shape=[VOCAB_SIZE, EMBEDDING_DIM]),\n",
    "                trainable=False, name='W')\n",
    "# sentences_placeholder = tf.placeholder(tf.int32, shape=[None, None])\n",
    "words_placeholder = tf.placeholder(tf.int32, shape=[None])\n",
    "\n",
    "# config = tf.ConfigProto(allow_soft_placement=True)\n",
    "gpu_options = tf.GPUOptions(per_process_gpu_memory_fraction=0.333)\n",
    "config = tf.ConfigProto(gpu_options=gpu_options)\n",
    "config.gpu_options.allow_growth = True\n",
    "# sess = tf.Session(config=config)\n",
    "\n",
    "with tf.Session(config=config) as sess:\n",
    "    embedding_saver = tf.train.Saver({'lm/softmax/W': w})\n",
    "    embedding_saver.restore(sess, ckpt_file)\n",
    "    embedding_lookup = tf.nn.embedding_lookup(w, words_placeholder)\n",
    "\n",
    "    embedding_matrix = np.zeros((len(word_index)+1, EMBEDDING_DIM))\n",
    "\n",
    "    for word, i in word_index.items():\n",
    "        embed = sess.run(embedding_lookup, feed_dict={words_placeholder: [vocab.word_to_id(word)]})\n",
    "        embedding_matrix[i] = embed"
   ]
  },
  {
   "cell_type": "code",
   "execution_count": 18,
   "metadata": {},
   "outputs": [],
   "source": [
    "def get_word_id(word):\n",
    "    return vocab.word_to_id(word)"
   ]
  },
  {
   "cell_type": "code",
   "execution_count": null,
   "metadata": {},
   "outputs": [],
   "source": [
    "VOCAB_SIZE = 605918\n",
    "EMBEDDING_DIM = 256\n",
    "\n",
    "ROOT_PATH = '/media/scatter/scatterdisk/elmo_ckpt/'\n",
    "\n",
    "# ckpt_file = os.path.join(ROOT_PATH, 'elmo_ckpt_0831_1233/model_batch4700.ckpt-4700')\n",
    "# ckpt_file = os.path.join(ROOT_PATH, 'elmo_ckpt_0904_1132/model_batch9200.ckpt-9200')\n",
    "ckpt_file = os.path.join(ROOT_PATH, 'elmo_ckpt_0904_1535/model_batch9400.ckpt-9400')\n",
    "\n",
    "w = tf.Variable(tf.constant(0.0, shape=[VOCAB_SIZE, EMBEDDING_DIM]),\n",
    "                trainable=False, name='W')"
   ]
  },
  {
   "cell_type": "code",
   "execution_count": 11,
   "metadata": {},
   "outputs": [],
   "source": [
    "normalized_embedding = tf.nn.l2_normalize(w, dim=1)\n",
    "nearby_word = tf.placeholder(dtype=tf.int32)\n",
    "nearby_emb = tf.gather(normalized_embedding, nearby_word)\n",
    "nearby_dist = tf.matmul(nearby_emb, normalized_embedding, transpose_b=True)\n",
    "nearby_val, nearby_idx = tf.nn.top_k(nearby_dist, 10)"
   ]
  },
  {
   "cell_type": "code",
   "execution_count": 21,
   "metadata": {},
   "outputs": [
    {
     "ename": "ResourceExhaustedError",
     "evalue": "OOM when allocating tensor with shape[605918]\n\t [[Node: l2_normalize/Sum = Sum[T=DT_FLOAT, Tidx=DT_INT32, keep_dims=true, _device=\"/job:localhost/replica:0/task:0/gpu:0\"](l2_normalize/Square, l2_normalize/Sum/reduction_indices)]]\n\t [[Node: MatMul/_3 = _Recv[client_terminated=false, recv_device=\"/job:localhost/replica:0/task:0/cpu:0\", send_device=\"/job:localhost/replica:0/task:0/gpu:0\", send_device_incarnation=1, tensor_name=\"edge_15_MatMul\", tensor_type=DT_FLOAT, _device=\"/job:localhost/replica:0/task:0/cpu:0\"]()]]\n\nCaused by op 'l2_normalize/Sum', defined at:\n  File \"/usr/lib/python3.5/runpy.py\", line 184, in _run_module_as_main\n    \"__main__\", mod_spec)\n  File \"/usr/lib/python3.5/runpy.py\", line 85, in _run_code\n    exec(code, run_globals)\n  File \"/home/sunwoong/sunwoongenv/lib/python3.5/site-packages/ipykernel_launcher.py\", line 16, in <module>\n    app.launch_new_instance()\n  File \"/home/sunwoong/sunwoongenv/lib/python3.5/site-packages/traitlets/config/application.py\", line 658, in launch_instance\n    app.start()\n  File \"/home/sunwoong/sunwoongenv/lib/python3.5/site-packages/ipykernel/kernelapp.py\", line 486, in start\n    self.io_loop.start()\n  File \"/home/sunwoong/sunwoongenv/lib/python3.5/site-packages/tornado/platform/asyncio.py\", line 132, in start\n    self.asyncio_loop.run_forever()\n  File \"/usr/lib/python3.5/asyncio/base_events.py\", line 345, in run_forever\n    self._run_once()\n  File \"/usr/lib/python3.5/asyncio/base_events.py\", line 1312, in _run_once\n    handle._run()\n  File \"/usr/lib/python3.5/asyncio/events.py\", line 125, in _run\n    self._callback(*self._args)\n  File \"/home/sunwoong/sunwoongenv/lib/python3.5/site-packages/tornado/platform/asyncio.py\", line 122, in _handle_events\n    handler_func(fileobj, events)\n  File \"/home/sunwoong/sunwoongenv/lib/python3.5/site-packages/tornado/stack_context.py\", line 300, in null_wrapper\n    return fn(*args, **kwargs)\n  File \"/home/sunwoong/sunwoongenv/lib/python3.5/site-packages/zmq/eventloop/zmqstream.py\", line 450, in _handle_events\n    self._handle_recv()\n  File \"/home/sunwoong/sunwoongenv/lib/python3.5/site-packages/zmq/eventloop/zmqstream.py\", line 480, in _handle_recv\n    self._run_callback(callback, msg)\n  File \"/home/sunwoong/sunwoongenv/lib/python3.5/site-packages/zmq/eventloop/zmqstream.py\", line 432, in _run_callback\n    callback(*args, **kwargs)\n  File \"/home/sunwoong/sunwoongenv/lib/python3.5/site-packages/tornado/stack_context.py\", line 300, in null_wrapper\n    return fn(*args, **kwargs)\n  File \"/home/sunwoong/sunwoongenv/lib/python3.5/site-packages/ipykernel/kernelbase.py\", line 283, in dispatcher\n    return self.dispatch_shell(stream, msg)\n  File \"/home/sunwoong/sunwoongenv/lib/python3.5/site-packages/ipykernel/kernelbase.py\", line 233, in dispatch_shell\n    handler(stream, idents, msg)\n  File \"/home/sunwoong/sunwoongenv/lib/python3.5/site-packages/ipykernel/kernelbase.py\", line 399, in execute_request\n    user_expressions, allow_stdin)\n  File \"/home/sunwoong/sunwoongenv/lib/python3.5/site-packages/ipykernel/ipkernel.py\", line 208, in do_execute\n    res = shell.run_cell(code, store_history=store_history, silent=silent)\n  File \"/home/sunwoong/sunwoongenv/lib/python3.5/site-packages/ipykernel/zmqshell.py\", line 537, in run_cell\n    return super(ZMQInteractiveShell, self).run_cell(*args, **kwargs)\n  File \"/home/sunwoong/sunwoongenv/lib/python3.5/site-packages/IPython/core/interactiveshell.py\", line 2662, in run_cell\n    raw_cell, store_history, silent, shell_futures)\n  File \"/home/sunwoong/sunwoongenv/lib/python3.5/site-packages/IPython/core/interactiveshell.py\", line 2785, in _run_cell\n    interactivity=interactivity, compiler=compiler, result=result)\n  File \"/home/sunwoong/sunwoongenv/lib/python3.5/site-packages/IPython/core/interactiveshell.py\", line 2901, in run_ast_nodes\n    if self.run_code(code, result):\n  File \"/home/sunwoong/sunwoongenv/lib/python3.5/site-packages/IPython/core/interactiveshell.py\", line 2961, in run_code\n    exec(code_obj, self.user_global_ns, self.user_ns)\n  File \"<ipython-input-11-630f6b444c39>\", line 1, in <module>\n    normalized_embedding = tf.nn.l2_normalize(w, dim=1)\n  File \"/home/sunwoong/sunwoongenv/lib/python3.5/site-packages/tensorflow/python/ops/nn_impl.py\", line 291, in l2_normalize\n    square_sum = math_ops.reduce_sum(math_ops.square(x), dim, keep_dims=True)\n  File \"/home/sunwoong/sunwoongenv/lib/python3.5/site-packages/tensorflow/python/ops/math_ops.py\", line 1251, in reduce_sum\n    name=name)\n  File \"/home/sunwoong/sunwoongenv/lib/python3.5/site-packages/tensorflow/python/ops/gen_math_ops.py\", line 2528, in _sum\n    keep_dims=keep_dims, name=name)\n  File \"/home/sunwoong/sunwoongenv/lib/python3.5/site-packages/tensorflow/python/framework/op_def_library.py\", line 767, in apply_op\n    op_def=op_def)\n  File \"/home/sunwoong/sunwoongenv/lib/python3.5/site-packages/tensorflow/python/framework/ops.py\", line 2506, in create_op\n    original_op=self._default_original_op, op_def=op_def)\n  File \"/home/sunwoong/sunwoongenv/lib/python3.5/site-packages/tensorflow/python/framework/ops.py\", line 1269, in __init__\n    self._traceback = _extract_stack()\n\nResourceExhaustedError (see above for traceback): OOM when allocating tensor with shape[605918]\n\t [[Node: l2_normalize/Sum = Sum[T=DT_FLOAT, Tidx=DT_INT32, keep_dims=true, _device=\"/job:localhost/replica:0/task:0/gpu:0\"](l2_normalize/Square, l2_normalize/Sum/reduction_indices)]]\n\t [[Node: MatMul/_3 = _Recv[client_terminated=false, recv_device=\"/job:localhost/replica:0/task:0/cpu:0\", send_device=\"/job:localhost/replica:0/task:0/gpu:0\", send_device_incarnation=1, tensor_name=\"edge_15_MatMul\", tensor_type=DT_FLOAT, _device=\"/job:localhost/replica:0/task:0/cpu:0\"]()]]\n",
     "output_type": "error",
     "traceback": [
      "\u001b[0;31m---------------------------------------------------------------------------\u001b[0m",
      "\u001b[0;31mResourceExhaustedError\u001b[0m                    Traceback (most recent call last)",
      "\u001b[0;32m~/sunwoongenv/lib/python3.5/site-packages/tensorflow/python/client/session.py\u001b[0m in \u001b[0;36m_do_call\u001b[0;34m(self, fn, *args)\u001b[0m\n\u001b[1;32m   1138\u001b[0m     \u001b[0;32mtry\u001b[0m\u001b[0;34m:\u001b[0m\u001b[0;34m\u001b[0m\u001b[0m\n\u001b[0;32m-> 1139\u001b[0;31m       \u001b[0;32mreturn\u001b[0m \u001b[0mfn\u001b[0m\u001b[0;34m(\u001b[0m\u001b[0;34m*\u001b[0m\u001b[0margs\u001b[0m\u001b[0;34m)\u001b[0m\u001b[0;34m\u001b[0m\u001b[0m\n\u001b[0m\u001b[1;32m   1140\u001b[0m     \u001b[0;32mexcept\u001b[0m \u001b[0merrors\u001b[0m\u001b[0;34m.\u001b[0m\u001b[0mOpError\u001b[0m \u001b[0;32mas\u001b[0m \u001b[0me\u001b[0m\u001b[0;34m:\u001b[0m\u001b[0;34m\u001b[0m\u001b[0m\n",
      "\u001b[0;32m~/sunwoongenv/lib/python3.5/site-packages/tensorflow/python/client/session.py\u001b[0m in \u001b[0;36m_run_fn\u001b[0;34m(session, feed_dict, fetch_list, target_list, options, run_metadata)\u001b[0m\n\u001b[1;32m   1120\u001b[0m                                  \u001b[0mfeed_dict\u001b[0m\u001b[0;34m,\u001b[0m \u001b[0mfetch_list\u001b[0m\u001b[0;34m,\u001b[0m \u001b[0mtarget_list\u001b[0m\u001b[0;34m,\u001b[0m\u001b[0;34m\u001b[0m\u001b[0m\n\u001b[0;32m-> 1121\u001b[0;31m                                  status, run_metadata)\n\u001b[0m\u001b[1;32m   1122\u001b[0m \u001b[0;34m\u001b[0m\u001b[0m\n",
      "\u001b[0;32m/usr/lib/python3.5/contextlib.py\u001b[0m in \u001b[0;36m__exit__\u001b[0;34m(self, type, value, traceback)\u001b[0m\n\u001b[1;32m     65\u001b[0m             \u001b[0;32mtry\u001b[0m\u001b[0;34m:\u001b[0m\u001b[0;34m\u001b[0m\u001b[0m\n\u001b[0;32m---> 66\u001b[0;31m                 \u001b[0mnext\u001b[0m\u001b[0;34m(\u001b[0m\u001b[0mself\u001b[0m\u001b[0;34m.\u001b[0m\u001b[0mgen\u001b[0m\u001b[0;34m)\u001b[0m\u001b[0;34m\u001b[0m\u001b[0m\n\u001b[0m\u001b[1;32m     67\u001b[0m             \u001b[0;32mexcept\u001b[0m \u001b[0mStopIteration\u001b[0m\u001b[0;34m:\u001b[0m\u001b[0;34m\u001b[0m\u001b[0m\n",
      "\u001b[0;32m~/sunwoongenv/lib/python3.5/site-packages/tensorflow/python/framework/errors_impl.py\u001b[0m in \u001b[0;36mraise_exception_on_not_ok_status\u001b[0;34m()\u001b[0m\n\u001b[1;32m    465\u001b[0m           \u001b[0mcompat\u001b[0m\u001b[0;34m.\u001b[0m\u001b[0mas_text\u001b[0m\u001b[0;34m(\u001b[0m\u001b[0mpywrap_tensorflow\u001b[0m\u001b[0;34m.\u001b[0m\u001b[0mTF_Message\u001b[0m\u001b[0;34m(\u001b[0m\u001b[0mstatus\u001b[0m\u001b[0;34m)\u001b[0m\u001b[0;34m)\u001b[0m\u001b[0;34m,\u001b[0m\u001b[0;34m\u001b[0m\u001b[0m\n\u001b[0;32m--> 466\u001b[0;31m           pywrap_tensorflow.TF_GetCode(status))\n\u001b[0m\u001b[1;32m    467\u001b[0m   \u001b[0;32mfinally\u001b[0m\u001b[0;34m:\u001b[0m\u001b[0;34m\u001b[0m\u001b[0m\n",
      "\u001b[0;31mResourceExhaustedError\u001b[0m: OOM when allocating tensor with shape[605918]\n\t [[Node: l2_normalize/Sum = Sum[T=DT_FLOAT, Tidx=DT_INT32, keep_dims=true, _device=\"/job:localhost/replica:0/task:0/gpu:0\"](l2_normalize/Square, l2_normalize/Sum/reduction_indices)]]\n\t [[Node: MatMul/_3 = _Recv[client_terminated=false, recv_device=\"/job:localhost/replica:0/task:0/cpu:0\", send_device=\"/job:localhost/replica:0/task:0/gpu:0\", send_device_incarnation=1, tensor_name=\"edge_15_MatMul\", tensor_type=DT_FLOAT, _device=\"/job:localhost/replica:0/task:0/cpu:0\"]()]]",
      "\nDuring handling of the above exception, another exception occurred:\n",
      "\u001b[0;31mResourceExhaustedError\u001b[0m                    Traceback (most recent call last)",
      "\u001b[0;32m<ipython-input-21-82cbe64ebeec>\u001b[0m in \u001b[0;36m<module>\u001b[0;34m()\u001b[0m\n\u001b[1;32m      3\u001b[0m \u001b[0mtf\u001b[0m\u001b[0;34m.\u001b[0m\u001b[0mglobal_variables_initializer\u001b[0m\u001b[0;34m(\u001b[0m\u001b[0;34m)\u001b[0m\u001b[0;34m.\u001b[0m\u001b[0mrun\u001b[0m\u001b[0;34m(\u001b[0m\u001b[0;34m)\u001b[0m\u001b[0;34m\u001b[0m\u001b[0m\n\u001b[1;32m      4\u001b[0m vals, idx = sess.run([nearby_val, nearby_idx], \n\u001b[0;32m----> 5\u001b[0;31m                      feed_dict={nearby_word: np.array([2355])})\n\u001b[0m\u001b[1;32m      6\u001b[0m \u001b[0msess\u001b[0m\u001b[0;34m.\u001b[0m\u001b[0mclose\u001b[0m\u001b[0;34m(\u001b[0m\u001b[0;34m)\u001b[0m\u001b[0;34m\u001b[0m\u001b[0m\n",
      "\u001b[0;32m~/sunwoongenv/lib/python3.5/site-packages/tensorflow/python/client/session.py\u001b[0m in \u001b[0;36mrun\u001b[0;34m(self, fetches, feed_dict, options, run_metadata)\u001b[0m\n\u001b[1;32m    787\u001b[0m     \u001b[0;32mtry\u001b[0m\u001b[0;34m:\u001b[0m\u001b[0;34m\u001b[0m\u001b[0m\n\u001b[1;32m    788\u001b[0m       result = self._run(None, fetches, feed_dict, options_ptr,\n\u001b[0;32m--> 789\u001b[0;31m                          run_metadata_ptr)\n\u001b[0m\u001b[1;32m    790\u001b[0m       \u001b[0;32mif\u001b[0m \u001b[0mrun_metadata\u001b[0m\u001b[0;34m:\u001b[0m\u001b[0;34m\u001b[0m\u001b[0m\n\u001b[1;32m    791\u001b[0m         \u001b[0mproto_data\u001b[0m \u001b[0;34m=\u001b[0m \u001b[0mtf_session\u001b[0m\u001b[0;34m.\u001b[0m\u001b[0mTF_GetBuffer\u001b[0m\u001b[0;34m(\u001b[0m\u001b[0mrun_metadata_ptr\u001b[0m\u001b[0;34m)\u001b[0m\u001b[0;34m\u001b[0m\u001b[0m\n",
      "\u001b[0;32m~/sunwoongenv/lib/python3.5/site-packages/tensorflow/python/client/session.py\u001b[0m in \u001b[0;36m_run\u001b[0;34m(self, handle, fetches, feed_dict, options, run_metadata)\u001b[0m\n\u001b[1;32m    995\u001b[0m     \u001b[0;32mif\u001b[0m \u001b[0mfinal_fetches\u001b[0m \u001b[0;32mor\u001b[0m \u001b[0mfinal_targets\u001b[0m\u001b[0;34m:\u001b[0m\u001b[0;34m\u001b[0m\u001b[0m\n\u001b[1;32m    996\u001b[0m       results = self._do_run(handle, final_targets, final_fetches,\n\u001b[0;32m--> 997\u001b[0;31m                              feed_dict_string, options, run_metadata)\n\u001b[0m\u001b[1;32m    998\u001b[0m     \u001b[0;32melse\u001b[0m\u001b[0;34m:\u001b[0m\u001b[0;34m\u001b[0m\u001b[0m\n\u001b[1;32m    999\u001b[0m       \u001b[0mresults\u001b[0m \u001b[0;34m=\u001b[0m \u001b[0;34m[\u001b[0m\u001b[0;34m]\u001b[0m\u001b[0;34m\u001b[0m\u001b[0m\n",
      "\u001b[0;32m~/sunwoongenv/lib/python3.5/site-packages/tensorflow/python/client/session.py\u001b[0m in \u001b[0;36m_do_run\u001b[0;34m(self, handle, target_list, fetch_list, feed_dict, options, run_metadata)\u001b[0m\n\u001b[1;32m   1130\u001b[0m     \u001b[0;32mif\u001b[0m \u001b[0mhandle\u001b[0m \u001b[0;32mis\u001b[0m \u001b[0;32mNone\u001b[0m\u001b[0;34m:\u001b[0m\u001b[0;34m\u001b[0m\u001b[0m\n\u001b[1;32m   1131\u001b[0m       return self._do_call(_run_fn, self._session, feed_dict, fetch_list,\n\u001b[0;32m-> 1132\u001b[0;31m                            target_list, options, run_metadata)\n\u001b[0m\u001b[1;32m   1133\u001b[0m     \u001b[0;32melse\u001b[0m\u001b[0;34m:\u001b[0m\u001b[0;34m\u001b[0m\u001b[0m\n\u001b[1;32m   1134\u001b[0m       return self._do_call(_prun_fn, self._session, handle, feed_dict,\n",
      "\u001b[0;32m~/sunwoongenv/lib/python3.5/site-packages/tensorflow/python/client/session.py\u001b[0m in \u001b[0;36m_do_call\u001b[0;34m(self, fn, *args)\u001b[0m\n\u001b[1;32m   1150\u001b[0m         \u001b[0;32mexcept\u001b[0m \u001b[0mKeyError\u001b[0m\u001b[0;34m:\u001b[0m\u001b[0;34m\u001b[0m\u001b[0m\n\u001b[1;32m   1151\u001b[0m           \u001b[0;32mpass\u001b[0m\u001b[0;34m\u001b[0m\u001b[0m\n\u001b[0;32m-> 1152\u001b[0;31m       \u001b[0;32mraise\u001b[0m \u001b[0mtype\u001b[0m\u001b[0;34m(\u001b[0m\u001b[0me\u001b[0m\u001b[0;34m)\u001b[0m\u001b[0;34m(\u001b[0m\u001b[0mnode_def\u001b[0m\u001b[0;34m,\u001b[0m \u001b[0mop\u001b[0m\u001b[0;34m,\u001b[0m \u001b[0mmessage\u001b[0m\u001b[0;34m)\u001b[0m\u001b[0;34m\u001b[0m\u001b[0m\n\u001b[0m\u001b[1;32m   1153\u001b[0m \u001b[0;34m\u001b[0m\u001b[0m\n\u001b[1;32m   1154\u001b[0m   \u001b[0;32mdef\u001b[0m \u001b[0m_extend_graph\u001b[0m\u001b[0;34m(\u001b[0m\u001b[0mself\u001b[0m\u001b[0;34m)\u001b[0m\u001b[0;34m:\u001b[0m\u001b[0;34m\u001b[0m\u001b[0m\n",
      "\u001b[0;31mResourceExhaustedError\u001b[0m: OOM when allocating tensor with shape[605918]\n\t [[Node: l2_normalize/Sum = Sum[T=DT_FLOAT, Tidx=DT_INT32, keep_dims=true, _device=\"/job:localhost/replica:0/task:0/gpu:0\"](l2_normalize/Square, l2_normalize/Sum/reduction_indices)]]\n\t [[Node: MatMul/_3 = _Recv[client_terminated=false, recv_device=\"/job:localhost/replica:0/task:0/cpu:0\", send_device=\"/job:localhost/replica:0/task:0/gpu:0\", send_device_incarnation=1, tensor_name=\"edge_15_MatMul\", tensor_type=DT_FLOAT, _device=\"/job:localhost/replica:0/task:0/cpu:0\"]()]]\n\nCaused by op 'l2_normalize/Sum', defined at:\n  File \"/usr/lib/python3.5/runpy.py\", line 184, in _run_module_as_main\n    \"__main__\", mod_spec)\n  File \"/usr/lib/python3.5/runpy.py\", line 85, in _run_code\n    exec(code, run_globals)\n  File \"/home/sunwoong/sunwoongenv/lib/python3.5/site-packages/ipykernel_launcher.py\", line 16, in <module>\n    app.launch_new_instance()\n  File \"/home/sunwoong/sunwoongenv/lib/python3.5/site-packages/traitlets/config/application.py\", line 658, in launch_instance\n    app.start()\n  File \"/home/sunwoong/sunwoongenv/lib/python3.5/site-packages/ipykernel/kernelapp.py\", line 486, in start\n    self.io_loop.start()\n  File \"/home/sunwoong/sunwoongenv/lib/python3.5/site-packages/tornado/platform/asyncio.py\", line 132, in start\n    self.asyncio_loop.run_forever()\n  File \"/usr/lib/python3.5/asyncio/base_events.py\", line 345, in run_forever\n    self._run_once()\n  File \"/usr/lib/python3.5/asyncio/base_events.py\", line 1312, in _run_once\n    handle._run()\n  File \"/usr/lib/python3.5/asyncio/events.py\", line 125, in _run\n    self._callback(*self._args)\n  File \"/home/sunwoong/sunwoongenv/lib/python3.5/site-packages/tornado/platform/asyncio.py\", line 122, in _handle_events\n    handler_func(fileobj, events)\n  File \"/home/sunwoong/sunwoongenv/lib/python3.5/site-packages/tornado/stack_context.py\", line 300, in null_wrapper\n    return fn(*args, **kwargs)\n  File \"/home/sunwoong/sunwoongenv/lib/python3.5/site-packages/zmq/eventloop/zmqstream.py\", line 450, in _handle_events\n    self._handle_recv()\n  File \"/home/sunwoong/sunwoongenv/lib/python3.5/site-packages/zmq/eventloop/zmqstream.py\", line 480, in _handle_recv\n    self._run_callback(callback, msg)\n  File \"/home/sunwoong/sunwoongenv/lib/python3.5/site-packages/zmq/eventloop/zmqstream.py\", line 432, in _run_callback\n    callback(*args, **kwargs)\n  File \"/home/sunwoong/sunwoongenv/lib/python3.5/site-packages/tornado/stack_context.py\", line 300, in null_wrapper\n    return fn(*args, **kwargs)\n  File \"/home/sunwoong/sunwoongenv/lib/python3.5/site-packages/ipykernel/kernelbase.py\", line 283, in dispatcher\n    return self.dispatch_shell(stream, msg)\n  File \"/home/sunwoong/sunwoongenv/lib/python3.5/site-packages/ipykernel/kernelbase.py\", line 233, in dispatch_shell\n    handler(stream, idents, msg)\n  File \"/home/sunwoong/sunwoongenv/lib/python3.5/site-packages/ipykernel/kernelbase.py\", line 399, in execute_request\n    user_expressions, allow_stdin)\n  File \"/home/sunwoong/sunwoongenv/lib/python3.5/site-packages/ipykernel/ipkernel.py\", line 208, in do_execute\n    res = shell.run_cell(code, store_history=store_history, silent=silent)\n  File \"/home/sunwoong/sunwoongenv/lib/python3.5/site-packages/ipykernel/zmqshell.py\", line 537, in run_cell\n    return super(ZMQInteractiveShell, self).run_cell(*args, **kwargs)\n  File \"/home/sunwoong/sunwoongenv/lib/python3.5/site-packages/IPython/core/interactiveshell.py\", line 2662, in run_cell\n    raw_cell, store_history, silent, shell_futures)\n  File \"/home/sunwoong/sunwoongenv/lib/python3.5/site-packages/IPython/core/interactiveshell.py\", line 2785, in _run_cell\n    interactivity=interactivity, compiler=compiler, result=result)\n  File \"/home/sunwoong/sunwoongenv/lib/python3.5/site-packages/IPython/core/interactiveshell.py\", line 2901, in run_ast_nodes\n    if self.run_code(code, result):\n  File \"/home/sunwoong/sunwoongenv/lib/python3.5/site-packages/IPython/core/interactiveshell.py\", line 2961, in run_code\n    exec(code_obj, self.user_global_ns, self.user_ns)\n  File \"<ipython-input-11-630f6b444c39>\", line 1, in <module>\n    normalized_embedding = tf.nn.l2_normalize(w, dim=1)\n  File \"/home/sunwoong/sunwoongenv/lib/python3.5/site-packages/tensorflow/python/ops/nn_impl.py\", line 291, in l2_normalize\n    square_sum = math_ops.reduce_sum(math_ops.square(x), dim, keep_dims=True)\n  File \"/home/sunwoong/sunwoongenv/lib/python3.5/site-packages/tensorflow/python/ops/math_ops.py\", line 1251, in reduce_sum\n    name=name)\n  File \"/home/sunwoong/sunwoongenv/lib/python3.5/site-packages/tensorflow/python/ops/gen_math_ops.py\", line 2528, in _sum\n    keep_dims=keep_dims, name=name)\n  File \"/home/sunwoong/sunwoongenv/lib/python3.5/site-packages/tensorflow/python/framework/op_def_library.py\", line 767, in apply_op\n    op_def=op_def)\n  File \"/home/sunwoong/sunwoongenv/lib/python3.5/site-packages/tensorflow/python/framework/ops.py\", line 2506, in create_op\n    original_op=self._default_original_op, op_def=op_def)\n  File \"/home/sunwoong/sunwoongenv/lib/python3.5/site-packages/tensorflow/python/framework/ops.py\", line 1269, in __init__\n    self._traceback = _extract_stack()\n\nResourceExhaustedError (see above for traceback): OOM when allocating tensor with shape[605918]\n\t [[Node: l2_normalize/Sum = Sum[T=DT_FLOAT, Tidx=DT_INT32, keep_dims=true, _device=\"/job:localhost/replica:0/task:0/gpu:0\"](l2_normalize/Square, l2_normalize/Sum/reduction_indices)]]\n\t [[Node: MatMul/_3 = _Recv[client_terminated=false, recv_device=\"/job:localhost/replica:0/task:0/cpu:0\", send_device=\"/job:localhost/replica:0/task:0/gpu:0\", send_device_incarnation=1, tensor_name=\"edge_15_MatMul\", tensor_type=DT_FLOAT, _device=\"/job:localhost/replica:0/task:0/cpu:0\"]()]]\n"
     ]
    }
   ],
   "source": [
    "sess = tf.InteractiveSession(config=config)\n",
    "\n",
    "tf.global_variables_initializer().run()\n",
    "vals, idx = sess.run([nearby_val, nearby_idx], \n",
    "                     feed_dict={nearby_word: np.array([2355])})\n",
    "sess.close()"
   ]
  },
  {
   "cell_type": "code",
   "execution_count": 15,
   "metadata": {},
   "outputs": [
    {
     "data": {
      "text/plain": [
       "array([[0, 1, 2, 3, 4, 5, 6, 7, 8, 9],\n",
       "       [0, 1, 2, 3, 4, 5, 6, 7, 8, 9],\n",
       "       [0, 1, 2, 3, 4, 5, 6, 7, 8, 9]], dtype=int32)"
      ]
     },
     "execution_count": 15,
     "metadata": {},
     "output_type": "execute_result"
    }
   ],
   "source": [
    "idx"
   ]
  },
  {
   "cell_type": "code",
   "execution_count": 14,
   "metadata": {},
   "outputs": [],
   "source": [
    "def build_eval_graph(target_word):\n",
    "    normarlized_embedding = tf.nn.l2_normalize(embedding_matrix, dim=1)\n",
    "    target_id = vocab.word_to_id(target_word)\n",
    "    target_embedding = normarlized_embedding[target_id]\n",
    "    cosine_sim = tf.matmul(target_embedding, \n",
    "                           normarlized_embedding,\n",
    "                           transpose_b=True)\n",
    "    nearby_val, nearby_idx = tf.nn.top_k(cosine_sim, 10)\n",
    "    return nearby_val, nearby_idx"
   ]
  },
  {
   "cell_type": "code",
   "execution_count": null,
   "metadata": {},
   "outputs": [],
   "source": [
    "nearby_val, nearby_idx = build_eval_graph()"
   ]
  },
  {
   "cell_type": "code",
   "execution_count": null,
   "metadata": {},
   "outputs": [],
   "source": []
  },
  {
   "cell_type": "code",
   "execution_count": 13,
   "metadata": {},
   "outputs": [
    {
     "data": {
      "text/plain": [
       "(2887, 256)"
      ]
     },
     "execution_count": 13,
     "metadata": {},
     "output_type": "execute_result"
    }
   ],
   "source": [
    "embedding_matrix.shape"
   ]
  },
  {
   "cell_type": "code",
   "execution_count": 37,
   "metadata": {},
   "outputs": [],
   "source": [
    "k_words = tf.nn.top_k(embedding_matrix, 5)"
   ]
  },
  {
   "cell_type": "code",
   "execution_count": 38,
   "metadata": {},
   "outputs": [
    {
     "data": {
      "text/plain": [
       "<tf.Tensor 'TopKV2_2:0' shape=(2887, 5) dtype=float64>"
      ]
     },
     "execution_count": 38,
     "metadata": {},
     "output_type": "execute_result"
    }
   ],
   "source": [
    "k_words.values.e"
   ]
  },
  {
   "cell_type": "code",
   "execution_count": 40,
   "metadata": {},
   "outputs": [],
   "source": [
    "sess = tf.InteractiveSession()\n",
    "\n",
    "k_words_val = k_words.values.eval()\n",
    "k_words_indicies = k_words.indices.eval()\n",
    "sess.close()"
   ]
  },
  {
   "cell_type": "code",
   "execution_count": 33,
   "metadata": {},
   "outputs": [
    {
     "data": {
      "text/plain": [
       "<tf.Tensor 'TopKV2_1:1' shape=(2887, 5) dtype=int32>"
      ]
     },
     "execution_count": 33,
     "metadata": {},
     "output_type": "execute_result"
    }
   ],
   "source": [
    "k_words.indices"
   ]
  },
  {
   "cell_type": "code",
   "execution_count": 32,
   "metadata": {},
   "outputs": [
    {
     "data": {
      "text/plain": [
       "(2887, 5)"
      ]
     },
     "execution_count": 32,
     "metadata": {},
     "output_type": "execute_result"
    }
   ],
   "source": [
    "l.shape"
   ]
  },
  {
   "cell_type": "code",
   "execution_count": null,
   "metadata": {},
   "outputs": [],
   "source": []
  },
  {
   "cell_type": "code",
   "execution_count": null,
   "metadata": {},
   "outputs": [],
   "source": []
  },
  {
   "cell_type": "code",
   "execution_count": 12,
   "metadata": {},
   "outputs": [],
   "source": [
    "labels = np.asarray(pos_neg_data['sentiment'])\n",
    "labels = np_utils.to_categorical(labels)"
   ]
  },
  {
   "cell_type": "code",
   "execution_count": 13,
   "metadata": {
    "collapsed": true
   },
   "outputs": [],
   "source": [
    "VALIDATION_SPLIT = 0.1\n",
    "\n",
    "data = pad_sequences(sentences_encoded, maxlen=MAX_SEQUENCE_LENGTH)\n",
    "\n",
    "indices = np.arange(data.shape[0])\n",
    "np.random.shuffle(indices)\n",
    "data = data[indices]\n",
    "labels = labels[indices]\n",
    "nb_validation_samples = int(VALIDATION_SPLIT * data.shape[0])"
   ]
  },
  {
   "cell_type": "code",
   "execution_count": 14,
   "metadata": {
    "collapsed": true
   },
   "outputs": [],
   "source": [
    "x_train = data[:-nb_validation_samples]\n",
    "y_train = labels[:-nb_validation_samples]\n",
    "x_val = data[-nb_validation_samples:]\n",
    "y_val = labels[-nb_validation_samples:]\n",
    "\n",
    "x_train, x_test, y_train, y_test = train_test_split(x_train, y_train, test_size=0.1)"
   ]
  },
  {
   "cell_type": "code",
   "execution_count": 15,
   "metadata": {},
   "outputs": [
    {
     "data": {
      "text/plain": [
       "((1296, 9), (160, 9), (145, 9))"
      ]
     },
     "execution_count": 15,
     "metadata": {},
     "output_type": "execute_result"
    }
   ],
   "source": [
    "x_train.shape, x_val.shape, x_test.shape"
   ]
  },
  {
   "cell_type": "code",
   "execution_count": 16,
   "metadata": {},
   "outputs": [
    {
     "name": "stdout",
     "output_type": "stream",
     "text": [
      "_________________________________________________________________\n",
      "Layer (type)                 Output Shape              Param #   \n",
      "=================================================================\n",
      "embedding_1 (Embedding)      (None, 9, 256)            739072    \n",
      "_________________________________________________________________\n",
      "flatten_1 (Flatten)          (None, 2304)              0         \n",
      "_________________________________________________________________\n",
      "dense_1 (Dense)              (None, 2)                 4610      \n",
      "=================================================================\n",
      "Total params: 743,682\n",
      "Trainable params: 4,610\n",
      "Non-trainable params: 739,072\n",
      "_________________________________________________________________\n",
      "None\n"
     ]
    }
   ],
   "source": [
    "reset_graph()\n",
    "\n",
    "embedding_layer = Embedding(len(word_index)+1, \n",
    "                            256, \n",
    "                            weights=[embedding_matrix], \n",
    "                            input_length=MAX_SEQUENCE_LENGTH, \n",
    "                            trainable=False)\n",
    "# 모델 경량화\n",
    "model = Sequential()\n",
    "model.add(embedding_layer)\n",
    "model.add(Flatten())\n",
    "model.add(Dense(2, activation='softmax'))\n",
    "model.compile(optimizer='sgd',\n",
    "              loss='binary_crossentropy',\n",
    "              metrics=['accuracy'])\n",
    "print(model.summary())"
   ]
  },
  {
   "cell_type": "code",
   "execution_count": 17,
   "metadata": {},
   "outputs": [
    {
     "name": "stdout",
     "output_type": "stream",
     "text": [
      "Train on 1296 samples, validate on 160 samples\n",
      "Epoch 1/20\n",
      "1216/1296 [===========================>..] - ETA: 0s - loss: 0.4244 - acc: 0.8627\n",
      "Testing loss: 0.4472929650339587, acc: 0.8551724146152365\n",
      "\n",
      "1296/1296 [==============================] - 0s - loss: 0.4193 - acc: 0.8650 - val_loss: 0.3344 - val_acc: 0.8938\n",
      "Epoch 2/20\n",
      " 704/1296 [===============>..............] - ETA: 0s - loss: 0.3903 - acc: 0.8651\n",
      "Testing loss: 0.40953469646388085, acc: 0.8551724146152365\n",
      "\n",
      "1296/1296 [==============================] - 0s - loss: 0.3935 - acc: 0.8650 - val_loss: 0.3441 - val_acc: 0.8938\n",
      "Epoch 3/20\n",
      " 768/1296 [================>.............] - ETA: 0s - loss: 0.4270 - acc: 0.8516\n",
      "Testing loss: 0.4123604733368446, acc: 0.8551724146152365\n",
      "\n",
      "1296/1296 [==============================] - 0s - loss: 0.4040 - acc: 0.8650 - val_loss: 0.3308 - val_acc: 0.8938\n",
      "Epoch 4/20\n",
      " 992/1296 [=====================>........] - ETA: 0s - loss: 0.3857 - acc: 0.8649\n",
      "Testing loss: 0.4130592148879479, acc: 0.8551724146152365\n",
      "\n",
      "1296/1296 [==============================] - 0s - loss: 0.3869 - acc: 0.8650 - val_loss: 0.3300 - val_acc: 0.8938\n",
      "Epoch 5/20\n",
      "1056/1296 [=======================>......] - ETA: 0s - loss: 0.3840 - acc: 0.8674\n",
      "Testing loss: 0.4036726824168501, acc: 0.8551724146152365\n",
      "\n",
      "1296/1296 [==============================] - 0s - loss: 0.3874 - acc: 0.8650 - val_loss: 0.3469 - val_acc: 0.8938\n",
      "Epoch 6/20\n",
      "1056/1296 [=======================>......] - ETA: 0s - loss: 0.3806 - acc: 0.8665\n",
      "Testing loss: 0.4060119515862958, acc: 0.8551724146152365\n",
      "\n",
      "1296/1296 [==============================] - 0s - loss: 0.3845 - acc: 0.8650 - val_loss: 0.3400 - val_acc: 0.8938\n",
      "Epoch 7/20\n",
      "1088/1296 [========================>.....] - ETA: 0s - loss: 0.3756 - acc: 0.8695\n",
      "Testing loss: 0.40593158212201347, acc: 0.8551724146152365\n",
      "\n",
      "1296/1296 [==============================] - 0s - loss: 0.3856 - acc: 0.8650 - val_loss: 0.3471 - val_acc: 0.8938\n",
      "Epoch 8/20\n",
      "1056/1296 [=======================>......] - ETA: 0s - loss: 0.3669 - acc: 0.8741\n",
      "Testing loss: 0.4122151415923546, acc: 0.8551724146152365\n",
      "\n",
      "1296/1296 [==============================] - 0s - loss: 0.3798 - acc: 0.8650 - val_loss: 0.3665 - val_acc: 0.8938\n",
      "Epoch 9/20\n",
      "1024/1296 [======================>.......] - ETA: 0s - loss: 0.3771 - acc: 0.8711\n",
      "Testing loss: 0.40810642057451707, acc: 0.8551724146152365\n",
      "\n",
      "1296/1296 [==============================] - 0s - loss: 0.3853 - acc: 0.8650 - val_loss: 0.3500 - val_acc: 0.8938\n",
      "Epoch 10/20\n",
      " 992/1296 [=====================>........] - ETA: 0s - loss: 0.3599 - acc: 0.8690\n",
      "Testing loss: 0.41279880527792306, acc: 0.8551724146152365\n",
      "\n",
      "1296/1296 [==============================] - 0s - loss: 0.3761 - acc: 0.8650 - val_loss: 0.3663 - val_acc: 0.8875\n",
      "Epoch 11/20\n",
      "1056/1296 [=======================>......] - ETA: 0s - loss: 0.3824 - acc: 0.8665\n",
      "Testing loss: 0.40321477774916026, acc: 0.8551724146152365\n",
      "\n",
      "1296/1296 [==============================] - 0s - loss: 0.3860 - acc: 0.8642 - val_loss: 0.3326 - val_acc: 0.8938\n",
      "Epoch 12/20\n",
      " 960/1296 [=====================>........] - ETA: 0s - loss: 0.3549 - acc: 0.8750\n",
      "Testing loss: 0.4116791758044013, acc: 0.8551724146152365\n",
      "\n",
      "1296/1296 [==============================] - 0s - loss: 0.3777 - acc: 0.8650 - val_loss: 0.3602 - val_acc: 0.8938\n",
      "Epoch 13/20\n",
      "1088/1296 [========================>.....] - ETA: 0s - loss: 0.3996 - acc: 0.8603\n",
      "Testing loss: 0.40639232068226255, acc: 0.8551724146152365\n",
      "\n",
      "1296/1296 [==============================] - 0s - loss: 0.3886 - acc: 0.8650 - val_loss: 0.3276 - val_acc: 0.8938\n",
      "Epoch 14/20\n",
      "1024/1296 [======================>.......] - ETA: 0s - loss: 0.3937 - acc: 0.8584\n",
      "Testing loss: 0.41398384612182093, acc: 0.8551724146152365\n",
      "\n",
      "1296/1296 [==============================] - 0s - loss: 0.3824 - acc: 0.8650 - val_loss: 0.3266 - val_acc: 0.8938\n",
      "Epoch 15/20\n",
      "1024/1296 [======================>.......] - ETA: 0s - loss: 0.3837 - acc: 0.8623\n",
      "Testing loss: 0.4222180750863305, acc: 0.8551724146152365\n",
      "\n",
      "1296/1296 [==============================] - 0s - loss: 0.3752 - acc: 0.8657 - val_loss: 0.3271 - val_acc: 0.8938\n",
      "Epoch 16/20\n",
      "1024/1296 [======================>.......] - ETA: 0s - loss: 0.3657 - acc: 0.8682\n",
      "Testing loss: 0.40559834344633694, acc: 0.8551724146152365\n",
      "\n",
      "1296/1296 [==============================] - 0s - loss: 0.3714 - acc: 0.8657 - val_loss: 0.3466 - val_acc: 0.8938\n",
      "Epoch 17/20\n",
      " 992/1296 [=====================>........] - ETA: 0s - loss: 0.3836 - acc: 0.8589\n",
      "Testing loss: 0.40020164086900906, acc: 0.8551724146152365\n",
      "\n",
      "1296/1296 [==============================] - 0s - loss: 0.3739 - acc: 0.8657 - val_loss: 0.3294 - val_acc: 0.8938\n",
      "Epoch 18/20\n",
      "1056/1296 [=======================>......] - ETA: 0s - loss: 0.3581 - acc: 0.8712\n",
      "Testing loss: 0.4165623767622586, acc: 0.8482758628910986\n",
      "\n",
      "1296/1296 [==============================] - 0s - loss: 0.3695 - acc: 0.8657 - val_loss: 0.3690 - val_acc: 0.8875\n",
      "Epoch 19/20\n",
      "1056/1296 [=======================>......] - ETA: 0s - loss: 0.3747 - acc: 0.8627\n",
      "Testing loss: 0.4052491516902529, acc: 0.8551724146152365\n",
      "\n",
      "1296/1296 [==============================] - 0s - loss: 0.3661 - acc: 0.8650 - val_loss: 0.3251 - val_acc: 0.8938\n",
      "Epoch 20/20\n",
      "1056/1296 [=======================>......] - ETA: 0s - loss: 0.3668 - acc: 0.8665\n",
      "Testing loss: 0.40242758701587544, acc: 0.8551724146152365\n",
      "\n",
      "1296/1296 [==============================] - 0s - loss: 0.3640 - acc: 0.8673 - val_loss: 0.3318 - val_acc: 0.8938\n"
     ]
    }
   ],
   "source": [
    "history = model.fit(x_train, y_train, \n",
    "                    epochs=20, \n",
    "                    validation_data=(x_val, y_val),\n",
    "                    class_weight='auto',\n",
    "                    callbacks=[TestCallback((x_test, y_test))])"
   ]
  },
  {
   "cell_type": "code",
   "execution_count": 18,
   "metadata": {},
   "outputs": [
    {
     "name": "stdout",
     "output_type": "stream",
     "text": [
      " 32/145 [=====>........................] - ETA: 0s"
     ]
    },
    {
     "data": {
      "text/plain": [
       "[0.40242758701587544, 0.8551724146152365]"
      ]
     },
     "execution_count": 18,
     "metadata": {},
     "output_type": "execute_result"
    }
   ],
   "source": [
    "model.evaluate(x_test, y_test)"
   ]
  },
  {
   "cell_type": "code",
   "execution_count": 19,
   "metadata": {
    "collapsed": true
   },
   "outputs": [],
   "source": [
    "import matplotlib.pyplot as plt\n",
    "\n",
    "\n",
    "def plot_loss(history):\n",
    "    plt.plot(history.history['loss'])\n",
    "    plt.plot(history.history['val_loss'])\n",
    "    plt.title(\"Model Loss\")\n",
    "    plt.ylabel(\"Loss\")\n",
    "    plt.xlabel(\"Epoch\")\n",
    "    plt.legend([\"Train\", \"Test\"], loc=0)\n",
    "\n",
    "\n",
    "def plot_acc(history):\n",
    "    plt.plot(history.history['acc'])\n",
    "    plt.plot(history.history['val_acc'])\n",
    "    plt.title(\"Model Accuracy\")\n",
    "    plt.ylabel(\"Accuracy\")\n",
    "    plt.xlabel(\"Epoch\")\n",
    "    plt.legend([\"Train\", \"Test\"], loc=0)"
   ]
  },
  {
   "cell_type": "code",
   "execution_count": 20,
   "metadata": {},
   "outputs": [
    {
     "data": {
      "image/png": "[encoded data removed]",
      "text/plain": [
       "<Figure size 936x360 with 2 Axes>"
      ]
     },
     "metadata": {},
     "output_type": "display_data"
    }
   ],
   "source": [
    "plt.figure(figsize=(13,5))\n",
    "plt.subplot(121)\n",
    "plot_acc(history)\n",
    "plt.subplot(122)\n",
    "plot_loss(history)"
   ]
  },
  {
   "cell_type": "code",
   "execution_count": 20,
   "metadata": {},
   "outputs": [],
   "source": [
    "token_path = '/media/scatter/projects/sandbox/project/AIChatbot/8000pingpong/8000pair_all_vocab.txt'"
   ]
  },
  {
   "cell_type": "code",
   "execution_count": 47,
   "metadata": {},
   "outputs": [
    {
     "data": {
      "text/plain": [
       "98714"
      ]
     },
     "execution_count": 47,
     "metadata": {},
     "output_type": "execute_result"
    }
   ],
   "source": [
    "with open(token_path, 'r') as f:\n",
    "    tokens = []\n",
    "    for line in f.readlines()[1:]:\n",
    "        token = line.split('\\t')[0]\n",
    "        if '-' not in token:\n",
    "            tokens.append(token)\n",
    "len(tokens)"
   ]
  },
  {
   "cell_type": "code",
   "execution_count": 49,
   "metadata": {},
   "outputs": [],
   "source": [
    "with open('/media/scatter/scatterdisk/sandbox_temp/data/pingpong_unique_tokens.txt', 'w') as f:\n",
    "    f.write('{}\\n'.format('<S>'))\n",
    "    f.write('{}\\n'.format('</S>'))\n",
    "    f.write('{}\\n'.format('<UNK>'))    \n",
    "    for token in tokens:\n",
    "        f.write('{}\\n'.format(token))"
   ]
  },
  {
   "cell_type": "code",
   "execution_count": 50,
   "metadata": {},
   "outputs": [],
   "source": [
    "with open('/media/scatter/scatterdisk/sandbox_temp/data/pingpong_unique_tokens.txt', 'r') as f:\n",
    "    tokens = f.readlines()"
   ]
  },
  {
   "cell_type": "code",
   "execution_count": null,
   "metadata": {},
   "outputs": [],
   "source": []
  },
  {
   "cell_type": "code",
   "execution_count": null,
   "metadata": {},
   "outputs": [],
   "source": []
  },
  {
   "cell_type": "code",
   "execution_count": null,
   "metadata": {},
   "outputs": [],
   "source": []
  }
 ],
 "metadata": {
  "kernelspec": {
   "display_name": "sunwoongenv",
   "language": "python",
   "name": "sunwoongenv"
  },
  "language_info": {
   "codemirror_mode": {
    "name": "ipython",
    "version": 3
   },
   "file_extension": ".py",
   "mimetype": "text/x-python",
   "name": "python",
   "nbconvert_exporter": "python",
   "pygments_lexer": "ipython3",
   "version": "3.5.2"
  }
 },
 "nbformat": 4,
 "nbformat_minor": 2
}
