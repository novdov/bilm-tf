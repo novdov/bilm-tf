{
 "cells": [
  {
   "cell_type": "code",
   "execution_count": 1,
   "metadata": {},
   "outputs": [
    {
     "name": "stderr",
     "output_type": "stream",
     "text": [
      "Using TensorFlow backend.\n"
     ]
    },
    {
     "name": "stdout",
     "output_type": "stream",
     "text": [
      "1.2.0\n"
     ]
    }
   ],
   "source": [
    "from collections import defaultdict\n",
    "import numpy as np\n",
    "import os\n",
    "import pandas as pd\n",
    "from pprint import pprint\n",
    "from sklearn.model_selection import train_test_split\n",
    "import tensorflow as tf\n",
    "\n",
    "from keras.callbacks import Callback\n",
    "from keras.models import Model, Sequential\n",
    "from keras.layers import (\n",
    "    Activation, \n",
    "    Dense, \n",
    "    Embedding, \n",
    "    Input,\n",
    "    Flatten\n",
    ")\n",
    "from keras.preprocessing.sequence import pad_sequences\n",
    "from keras.utils import np_utils\n",
    "\n",
    "from bilm.training import load_vocab\n",
    "\n",
    "print(tf.__version__)"
   ]
  },
  {
   "cell_type": "code",
   "execution_count": 2,
   "metadata": {},
   "outputs": [],
   "source": [
    "def reset_graph(seed=2018):\n",
    "    tf.reset_default_graph()\n",
    "    tf.set_random_seed(seed)\n",
    "    np.random.seed(seed)"
   ]
  },
  {
   "cell_type": "code",
   "execution_count": 3,
   "metadata": {
    "collapsed": true
   },
   "outputs": [],
   "source": [
    "def binarize_pos_neg(score):\n",
    "    if score >= 5.0:\n",
    "        score = 1\n",
    "    else:\n",
    "        score = 0\n",
    "    return score"
   ]
  },
  {
   "cell_type": "code",
   "execution_count": 4,
   "metadata": {},
   "outputs": [],
   "source": [
    "class TestCallback(Callback):\n",
    "    def __init__(self, test_data):\n",
    "        self.test_data = test_data\n",
    "\n",
    "    def on_epoch_end(self, epoch, logs={}):\n",
    "        x, y = self.test_data\n",
    "        loss, acc = self.model.evaluate(x, y, verbose=0)\n",
    "        print('\\nTesting loss: {}, acc: {}\\n'.format(loss, acc))"
   ]
  },
  {
   "cell_type": "code",
   "execution_count": 5,
   "metadata": {
    "collapsed": true
   },
   "outputs": [],
   "source": [
    "pos_neg_data_pre = pd.read_csv('pos_neg_labeling_7scaled.tsv', delimiter='\\t')\n",
    "pos_neg_data_pre.rename(columns={'긍정/부정 척도': 'sentiment'}, inplace=True)\n",
    "\n",
    "neutral_sentiment = pos_neg_data_pre[pos_neg_data_pre['sentiment'] == 4.0]\n",
    "neutral_sentiment_idx = neutral_sentiment.index\n",
    "\n",
    "pos_neg_data_pre_wo_neutral = pos_neg_data_pre.drop(neutral_sentiment_idx).reset_index(drop=True)\n",
    "pos_neg_data_pre_wo_neutral.drop(['명확도', 'Emojiness'], axis=1, inplace=True)\n",
    "\n",
    "pos_neg_data = pos_neg_data_pre_wo_neutral.copy()\n",
    "pos_neg_data['sentiment'] = pos_neg_data['sentiment'].apply(binarize_pos_neg)\n",
    "\n",
    "sentences = pos_neg_data['queries']\n",
    "sentence_splitted = [sentence.split(' ') for sentence in sentences]"
   ]
  },
  {
   "cell_type": "code",
   "execution_count": 6,
   "metadata": {
    "collapsed": true
   },
   "outputs": [],
   "source": [
    "vocab_file = '/media/scatter/scatterdisk/sandbox_temp/data/kakaotalk_sol_unique_tokens.txt'\n",
    "vocab = load_vocab(vocab_file, 50)"
   ]
  },
  {
   "cell_type": "code",
   "execution_count": 7,
   "metadata": {},
   "outputs": [
    {
     "data": {
      "text/plain": [
       "[[31, 35, 102, 105],\n",
       " [55, 986, 102, 308],\n",
       " [2, 191],\n",
       " [12, 105],\n",
       " [2, 71, 748, 179, 1808, 36],\n",
       " [27, 1574, 2, 2, 2],\n",
       " [1958],\n",
       " [55, 2, 2],\n",
       " [2, 191],\n",
       " [2]]"
      ]
     },
     "execution_count": 7,
     "metadata": {},
     "output_type": "execute_result"
    }
   ],
   "source": [
    "sentences_encoded = []\n",
    "\n",
    "for sentence in sentence_splitted:\n",
    "    sentence_encoded = []\n",
    "    for word in sentence:\n",
    "        sentence_encoded.append(vocab.word_to_id(word))\n",
    "    sentences_encoded.append(sentence_encoded)\n",
    "\n",
    "sentences_encoded[:10]"
   ]
  },
  {
   "cell_type": "code",
   "execution_count": 8,
   "metadata": {},
   "outputs": [
    {
     "name": "stdout",
     "output_type": "stream",
     "text": [
      "INFO:tensorflow:Restoring parameters from /media/scatter/scatterdisk/elmo_ckpt/elmo_ckpt_0904_1535/model_batch9400.ckpt-9400\n"
     ]
    }
   ],
   "source": [
    "VOCAB_SIZE = 605918\n",
    "EMBEDDING_DIM = 256\n",
    "\n",
    "ROOT_PATH = '/media/scatter/scatterdisk/elmo_ckpt/'\n",
    "\n",
    "# ckpt_file = os.path.join(ROOT_PATH, 'elmo_ckpt_0831_1233/model_batch4700.ckpt-4700')\n",
    "# ckpt_file = os.path.join(ROOT_PATH, 'elmo_ckpt_0904_1132/model_batch9200.ckpt-9200')\n",
    "ckpt_file = os.path.join(ROOT_PATH, 'elmo_ckpt_0904_1535/model_batch9400.ckpt-9400')\n",
    "\n",
    "w = tf.Variable(tf.constant(0.0, shape=[VOCAB_SIZE, EMBEDDING_DIM]),\n",
    "                trainable=False, name='W')\n",
    "# sentences_placeholder = tf.placeholder(tf.int32, shape=[None, None])\n",
    "words_placeholder = tf.placeholder(tf.int32, shape=[None])\n",
    "\n",
    "# config = tf.ConfigProto(allow_soft_placement=True)\n",
    "config = tf.ConfigProto()\n",
    "config.gpu_options.allow_growth = True\n",
    "sess = tf.Session(config=config)\n",
    "\n",
    "embedding_saver = tf.train.Saver({'lm/softmax/W': w})\n",
    "embedding_saver.restore(sess, ckpt_file)\n",
    "embedding_lookup = tf.nn.embedding_lookup(w, words_placeholder)"
   ]
  },
  {
   "cell_type": "code",
   "execution_count": 9,
   "metadata": {},
   "outputs": [
    {
     "name": "stdout",
     "output_type": "stream",
     "text": [
      "2886\n"
     ]
    }
   ],
   "source": [
    "word_index = {}\n",
    "\n",
    "for sentence in sentences:\n",
    "    for word in sentence.split(' '):\n",
    "        if word not in word_index:\n",
    "            word_index[word] = len(word_index)\n",
    "\n",
    "print(len(word_index))"
   ]
  },
  {
   "cell_type": "code",
   "execution_count": 10,
   "metadata": {
    "collapsed": true
   },
   "outputs": [],
   "source": [
    "embedding_matrix = np.zeros((len(word_index)+1, EMBEDDING_DIM))\n",
    "\n",
    "for word, i in word_index.items():\n",
    "    embed = sess.run(embedding_lookup, feed_dict={words_placeholder: [vocab.word_to_id(word)]})\n",
    "    embedding_matrix[i] = embed"
   ]
  },
  {
   "cell_type": "code",
   "execution_count": 11,
   "metadata": {},
   "outputs": [
    {
     "data": {
      "text/plain": [
       "9"
      ]
     },
     "execution_count": 11,
     "metadata": {},
     "output_type": "execute_result"
    }
   ],
   "source": [
    "MAX_SEQUENCE_LENGTH = max(len(sentence_encoded) \n",
    "                          for sentence_encoded in sentences_encoded)\n",
    "MAX_SEQUENCE_LENGTH"
   ]
  },
  {
   "cell_type": "code",
   "execution_count": 12,
   "metadata": {},
   "outputs": [],
   "source": [
    "labels = np.asarray(pos_neg_data['sentiment'])\n",
    "labels = np_utils.to_categorical(labels)"
   ]
  },
  {
   "cell_type": "code",
   "execution_count": 13,
   "metadata": {
    "collapsed": true
   },
   "outputs": [],
   "source": [
    "VALIDATION_SPLIT = 0.1\n",
    "\n",
    "data = pad_sequences(sentences_encoded, maxlen=MAX_SEQUENCE_LENGTH)\n",
    "\n",
    "indices = np.arange(data.shape[0])\n",
    "np.random.shuffle(indices)\n",
    "data = data[indices]\n",
    "labels = labels[indices]\n",
    "nb_validation_samples = int(VALIDATION_SPLIT * data.shape[0])"
   ]
  },
  {
   "cell_type": "code",
   "execution_count": 14,
   "metadata": {
    "collapsed": true
   },
   "outputs": [],
   "source": [
    "x_train = data[:-nb_validation_samples]\n",
    "y_train = labels[:-nb_validation_samples]\n",
    "x_val = data[-nb_validation_samples:]\n",
    "y_val = labels[-nb_validation_samples:]\n",
    "\n",
    "x_train, x_test, y_train, y_test = train_test_split(x_train, y_train, test_size=0.1)"
   ]
  },
  {
   "cell_type": "code",
   "execution_count": 15,
   "metadata": {},
   "outputs": [
    {
     "data": {
      "text/plain": [
       "((1296, 9), (160, 9), (145, 9))"
      ]
     },
     "execution_count": 15,
     "metadata": {},
     "output_type": "execute_result"
    }
   ],
   "source": [
    "x_train.shape, x_val.shape, x_test.shape"
   ]
  },
  {
   "cell_type": "code",
   "execution_count": 16,
   "metadata": {},
   "outputs": [
    {
     "name": "stdout",
     "output_type": "stream",
     "text": [
      "_________________________________________________________________\n",
      "Layer (type)                 Output Shape              Param #   \n",
      "=================================================================\n",
      "embedding_1 (Embedding)      (None, 9, 256)            739072    \n",
      "_________________________________________________________________\n",
      "flatten_1 (Flatten)          (None, 2304)              0         \n",
      "_________________________________________________________________\n",
      "dense_1 (Dense)              (None, 2)                 4610      \n",
      "=================================================================\n",
      "Total params: 743,682\n",
      "Trainable params: 4,610\n",
      "Non-trainable params: 739,072\n",
      "_________________________________________________________________\n",
      "None\n"
     ]
    }
   ],
   "source": [
    "reset_graph()\n",
    "\n",
    "embedding_layer = Embedding(len(word_index)+1, \n",
    "                            256, \n",
    "                            weights=[embedding_matrix], \n",
    "                            input_length=MAX_SEQUENCE_LENGTH, \n",
    "                            trainable=False)\n",
    "\n",
    "model = Sequential()\n",
    "model.add(embedding_layer)\n",
    "model.add(Flatten())\n",
    "model.add(Dense(2, activation='sigmoid'))\n",
    "model.compile(optimizer='sgd',\n",
    "              loss='binary_crossentropy',\n",
    "              metrics=['accuracy'])\n",
    "print(model.summary())"
   ]
  },
  {
   "cell_type": "code",
   "execution_count": 18,
   "metadata": {},
   "outputs": [
    {
     "name": "stdout",
     "output_type": "stream",
     "text": [
      "Train on 1296 samples, validate on 160 samples\n",
      "Epoch 1/20\n",
      " 672/1296 [==============>...............] - ETA: 0s - loss: 0.5131 - acc: 0.8497\n",
      "Testing loss: 0.3812925145543855, acc: 0.8758620697876502\n",
      "\n",
      "1296/1296 [==============================] - 0s - loss: 0.4668 - acc: 0.8557 - val_loss: 0.3405 - val_acc: 0.9062\n",
      "Epoch 2/20\n",
      " 736/1296 [================>.............] - ETA: 0s - loss: 0.3968 - acc: 0.8641\n",
      "Testing loss: 0.370234712650036, acc: 0.8758620697876502\n",
      "\n",
      "1296/1296 [==============================] - 0s - loss: 0.4042 - acc: 0.8611 - val_loss: 0.3228 - val_acc: 0.9062\n",
      "Epoch 3/20\n",
      " 960/1296 [=====================>........] - ETA: 0s - loss: 0.3989 - acc: 0.8646\n",
      "Testing loss: 0.36869780482917, acc: 0.8758620697876502\n",
      "\n",
      "1296/1296 [==============================] - 0s - loss: 0.4018 - acc: 0.8611 - val_loss: 0.3194 - val_acc: 0.9062\n",
      "Epoch 4/20\n",
      "1056/1296 [=======================>......] - ETA: 0s - loss: 0.4113 - acc: 0.8561\n",
      "Testing loss: 0.3682291117207757, acc: 0.8758620697876502\n",
      "\n",
      "1296/1296 [==============================] - 0s - loss: 0.4015 - acc: 0.8611 - val_loss: 0.3182 - val_acc: 0.9062\n",
      "Epoch 5/20\n",
      " 928/1296 [====================>.........] - ETA: 0s - loss: 0.3838 - acc: 0.8707\n",
      "Testing loss: 0.36890884822812575, acc: 0.8758620697876502\n",
      "\n",
      "1296/1296 [==============================] - 0s - loss: 0.4012 - acc: 0.8611 - val_loss: 0.3200 - val_acc: 0.9062\n",
      "Epoch 6/20\n",
      " 928/1296 [====================>.........] - ETA: 0s - loss: 0.3990 - acc: 0.8631\n",
      "Testing loss: 0.36844587654903016, acc: 0.8758620697876502\n",
      "\n",
      "1296/1296 [==============================] - 0s - loss: 0.4013 - acc: 0.8611 - val_loss: 0.3189 - val_acc: 0.9062\n",
      "Epoch 7/20\n",
      " 864/1296 [===================>..........] - ETA: 0s - loss: 0.4097 - acc: 0.8565\n",
      "Testing loss: 0.3682363719775759, acc: 0.8758620697876502\n",
      "\n",
      "1296/1296 [==============================] - 0s - loss: 0.4009 - acc: 0.8611 - val_loss: 0.3184 - val_acc: 0.9062\n",
      "Epoch 8/20\n",
      "1024/1296 [======================>.......] - ETA: 0s - loss: 0.4066 - acc: 0.8574\n",
      "Testing loss: 0.36816911080787923, acc: 0.8758620697876502\n",
      "\n",
      "1296/1296 [==============================] - 0s - loss: 0.4006 - acc: 0.8611 - val_loss: 0.3182 - val_acc: 0.9062\n",
      "Epoch 9/20\n",
      " 992/1296 [=====================>........] - ETA: 0s - loss: 0.4006 - acc: 0.8609\n",
      "Testing loss: 0.36840597267808584, acc: 0.8758620697876502\n",
      "\n",
      "1296/1296 [==============================] - 0s - loss: 0.4007 - acc: 0.8611 - val_loss: 0.3188 - val_acc: 0.9062\n",
      "Epoch 10/20\n",
      " 992/1296 [=====================>........] - ETA: 0s - loss: 0.3975 - acc: 0.8629\n",
      "Testing loss: 0.3692217407555416, acc: 0.8758620697876502\n",
      "\n",
      "1296/1296 [==============================] - 0s - loss: 0.4006 - acc: 0.8611 - val_loss: 0.3209 - val_acc: 0.9062\n",
      "Epoch 11/20\n",
      "1056/1296 [=======================>......] - ETA: 0s - loss: 0.3927 - acc: 0.8655\n",
      "Testing loss: 0.36885780239927357, acc: 0.8758620697876502\n",
      "\n",
      "1296/1296 [==============================] - 0s - loss: 0.4004 - acc: 0.8611 - val_loss: 0.3201 - val_acc: 0.9062\n",
      "Epoch 12/20\n",
      "1056/1296 [=======================>......] - ETA: 0s - loss: 0.4009 - acc: 0.8598\n",
      "Testing loss: 0.3682252678377875, acc: 0.8758620697876502\n",
      "\n",
      "1296/1296 [==============================] - 0s - loss: 0.4001 - acc: 0.8611 - val_loss: 0.3184 - val_acc: 0.9062\n",
      "Epoch 13/20\n",
      "1120/1296 [========================>.....] - ETA: 0s - loss: 0.3962 - acc: 0.8634\n",
      "Testing loss: 0.3694576372360361, acc: 0.8758620697876502\n",
      "\n",
      "1296/1296 [==============================] - 0s - loss: 0.4000 - acc: 0.8611 - val_loss: 0.3216 - val_acc: 0.9062\n",
      "Epoch 14/20\n",
      "1088/1296 [========================>.....] - ETA: 0s - loss: 0.4020 - acc: 0.8603\n",
      "Testing loss: 0.36853822469711306, acc: 0.8758620697876502\n",
      "\n",
      "1296/1296 [==============================] - 0s - loss: 0.3999 - acc: 0.8611 - val_loss: 0.3195 - val_acc: 0.9062\n",
      "Epoch 15/20\n",
      "1056/1296 [=======================>......] - ETA: 0s - loss: 0.4016 - acc: 0.8598\n",
      "Testing loss: 0.36953201252838663, acc: 0.8758620697876502\n",
      "\n",
      "1296/1296 [==============================] - 0s - loss: 0.3998 - acc: 0.8611 - val_loss: 0.3219 - val_acc: 0.9062\n",
      "Epoch 16/20\n",
      "1056/1296 [=======================>......] - ETA: 0s - loss: 0.4030 - acc: 0.8589\n",
      "Testing loss: 0.3690202612301399, acc: 0.8758620697876502\n",
      "\n",
      "1296/1296 [==============================] - 0s - loss: 0.3999 - acc: 0.8611 - val_loss: 0.3208 - val_acc: 0.9062\n",
      "Epoch 17/20\n",
      "1152/1296 [=========================>....] - ETA: 0s - loss: 0.3924 - acc: 0.8646\n",
      "Testing loss: 0.3707002976845051, acc: 0.8758620697876502\n",
      "\n",
      "1296/1296 [==============================] - 0s - loss: 0.3995 - acc: 0.8611 - val_loss: 0.3245 - val_acc: 0.9062\n",
      "Epoch 18/20\n",
      "1056/1296 [=======================>......] - ETA: 0s - loss: 0.4063 - acc: 0.8580\n",
      "Testing loss: 0.36877731886403314, acc: 0.8758620697876502\n",
      "\n",
      "1296/1296 [==============================] - 0s - loss: 0.4000 - acc: 0.8611 - val_loss: 0.3204 - val_acc: 0.9062\n",
      "Epoch 19/20\n",
      "1120/1296 [========================>.....] - ETA: 0s - loss: 0.3955 - acc: 0.8625\n",
      "Testing loss: 0.36868145918024, acc: 0.8758620697876502\n",
      "\n",
      "1296/1296 [==============================] - 0s - loss: 0.3994 - acc: 0.8611 - val_loss: 0.3202 - val_acc: 0.9062\n",
      "Epoch 20/20\n",
      "1088/1296 [========================>.....] - ETA: 0s - loss: 0.3926 - acc: 0.8649\n",
      "Testing loss: 0.3684779426147198, acc: 0.8758620697876502\n",
      "\n",
      "1296/1296 [==============================] - 0s - loss: 0.3993 - acc: 0.8611 - val_loss: 0.3196 - val_acc: 0.9062\n"
     ]
    }
   ],
   "source": [
    "class_weight = {0: 0.1, 1: 0.9}\n",
    "\n",
    "history = model.fit(x_train, y_train, \n",
    "                    epochs=20, \n",
    "                    validation_data=(x_val, y_val),\n",
    "#                     class_weight='auto',\n",
    "                    class_weight=class_weight,\n",
    "                    callbacks=[TestCallback((x_test, y_test))])"
   ]
  },
  {
   "cell_type": "code",
   "execution_count": 19,
   "metadata": {},
   "outputs": [
    {
     "name": "stdout",
     "output_type": "stream",
     "text": [
      " 32/145 [=====>........................] - ETA: 0s"
     ]
    },
    {
     "data": {
      "text/plain": [
       "[0.3684779426147198, 0.8758620697876502]"
      ]
     },
     "execution_count": 19,
     "metadata": {},
     "output_type": "execute_result"
    }
   ],
   "source": [
    "model.evaluate(x_test, y_test)"
   ]
  },
  {
   "cell_type": "code",
   "execution_count": 20,
   "metadata": {
    "collapsed": true
   },
   "outputs": [],
   "source": [
    "import matplotlib.pyplot as plt\n",
    "\n",
    "\n",
    "def plot_loss(history):\n",
    "    plt.plot(history.history['loss'])\n",
    "    plt.plot(history.history['val_loss'])\n",
    "    plt.title(\"Model Loss\")\n",
    "    plt.ylabel(\"Loss\")\n",
    "    plt.xlabel(\"Epoch\")\n",
    "    plt.legend([\"Train\", \"Test\"], loc=0)\n",
    "\n",
    "\n",
    "def plot_acc(history):\n",
    "    plt.plot(history.history['acc'])\n",
    "    plt.plot(history.history['val_acc'])\n",
    "    plt.title(\"Model Accuracy\")\n",
    "    plt.ylabel(\"Accuracy\")\n",
    "    plt.xlabel(\"Epoch\")\n",
    "    plt.legend([\"Train\", \"Test\"], loc=0)"
   ]
  },
  {
   "cell_type": "code",
   "execution_count": 21,
   "metadata": {},
   "outputs": [
    {
     "data": {
      "image/png": "[encoded data removed]",
      "text/plain": [
       "<Figure size 936x360 with 2 Axes>"
      ]
     },
     "metadata": {},
     "output_type": "display_data"
    }
   ],
   "source": [
    "plt.figure(figsize=(13,5))\n",
    "plt.subplot(121)\n",
    "plot_acc(history)\n",
    "plt.subplot(122)\n",
    "plot_loss(history)"
   ]
  },
  {
   "cell_type": "code",
   "execution_count": null,
   "metadata": {},
   "outputs": [],
   "source": []
  },
  {
   "cell_type": "code",
   "execution_count": null,
   "metadata": {},
   "outputs": [],
   "source": []
  },
  {
   "cell_type": "code",
   "execution_count": null,
   "metadata": {},
   "outputs": [],
   "source": []
  },
  {
   "cell_type": "code",
   "execution_count": null,
   "metadata": {},
   "outputs": [],
   "source": []
  },
  {
   "cell_type": "code",
   "execution_count": null,
   "metadata": {},
   "outputs": [],
   "source": []
  },
  {
   "cell_type": "code",
   "execution_count": null,
   "metadata": {},
   "outputs": [],
   "source": []
  }
 ],
 "metadata": {
  "kernelspec": {
   "display_name": "sunwoongenv",
   "language": "python",
   "name": "sunwoongenv"
  },
  "language_info": {
   "codemirror_mode": {
    "name": "ipython",
    "version": 3
   },
   "file_extension": ".py",
   "mimetype": "text/x-python",
   "name": "python",
   "nbconvert_exporter": "python",
   "pygments_lexer": "ipython3",
   "version": "3.5.2"
  }
 },
 "nbformat": 4,
 "nbformat_minor": 2
}
