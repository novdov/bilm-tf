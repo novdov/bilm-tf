{
 "cells": [
  {
   "cell_type": "code",
   "execution_count": 8,
   "metadata": {},
   "outputs": [],
   "source": [
    "from datetime import datetime\n",
    "import numpy as np\n",
    "\n",
    "from bilm.training import train, load_options_latest_checkpoint, load_vocab, test\n",
    "from bilm.data import BidirectionalLMDataset\n",
    "\n",
    "now = datetime.now()\n",
    "date_fmt = '{:%H%M}'.format(now)\n",
    "\n",
    "train_prefix = '/media/scatter/scatterdisk/sandbox_temp/data/kakaotalk_sol_elmo/messages/*/*'\n",
    "val_prefix = '/media/scatter/scatterdisk/sandbox_temp/data/kakaotalk_sol_elmo/val/*/*'\n",
    "vocab_file = '/media/scatter/scatterdisk/sandbox_temp/data/kakaotalk_sol_elmo/kakaotalk_sol_unique_tokens.txt'\n",
    "options = '/media/scatter/scatterdisk/elmo_ckpt_0831_1541/options.json'\n",
    "ckpt_file = '/media/scatter/scatterdisk/elmo_ckpt_0831_1233/model_batch4700.ckpt-4700'\n",
    "save_dir = '/media/scatter/scatterdisk/elmo_ckpt_{}'.format(date_fmt)"
   ]
  },
  {
   "cell_type": "code",
   "execution_count": 9,
   "metadata": {},
   "outputs": [],
   "source": [
    "def main():\n",
    "    data = BidirectionalLMDataset(val_prefix,\n",
    "                                  vocab_file,\n",
    "                                  test=False,\n",
    "                                  shuffle_on_load=True)\n",
    "    \n",
    "    test(options, ckpt_file, data)"
   ]
  },
  {
   "cell_type": "code",
   "execution_count": 13,
   "metadata": {},
   "outputs": [],
   "source": [
    "import tensorflow as tf\n",
    "from tensorflow.contrib import learn"
   ]
  },
  {
   "cell_type": "code",
   "execution_count": null,
   "metadata": {},
   "outputs": [],
   "source": []
  },
  {
   "cell_type": "code",
   "execution_count": null,
   "metadata": {},
   "outputs": [],
   "source": []
  },
  {
   "cell_type": "code",
   "execution_count": null,
   "metadata": {},
   "outputs": [],
   "source": []
  },
  {
   "cell_type": "code",
   "execution_count": null,
   "metadata": {},
   "outputs": [],
   "source": []
  },
  {
   "cell_type": "code",
   "execution_count": null,
   "metadata": {},
   "outputs": [],
   "source": []
  },
  {
   "cell_type": "code",
   "execution_count": null,
   "metadata": {},
   "outputs": [],
   "source": []
  },
  {
   "cell_type": "code",
   "execution_count": null,
   "metadata": {},
   "outputs": [],
   "source": []
  }
 ],
 "metadata": {
  "kernelspec": {
   "display_name": "sunwoongenv",
   "language": "python",
   "name": "sunwoongenv"
  },
  "language_info": {
   "codemirror_mode": {
    "name": "ipython",
    "version": 3
   },
   "file_extension": ".py",
   "mimetype": "text/x-python",
   "name": "python",
   "nbconvert_exporter": "python",
   "pygments_lexer": "ipython3",
   "version": "3.5.2"
  }
 },
 "nbformat": 4,
 "nbformat_minor": 2
}
